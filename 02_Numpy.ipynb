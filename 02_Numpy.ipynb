{
  "nbformat": 4,
  "nbformat_minor": 0,
  "metadata": {
    "colab": {
      "name": "Numpy.ipynb",
      "provenance": [],
      "collapsed_sections": [
        "LoSLMqaoHMXt"
      ],
      "authorship_tag": "ABX9TyPUkjVd+JZZQen/QaNTu5HW",
      "include_colab_link": true
    },
    "kernelspec": {
      "name": "python3",
      "display_name": "Python 3"
    }
  },
  "cells": [
    {
      "cell_type": "markdown",
      "metadata": {
        "id": "view-in-github",
        "colab_type": "text"
      },
      "source": [
        "<a href=\"https://colab.research.google.com/github/faspy/monty_python/blob/master/Numpy.ipynb\" target=\"_parent\"><img src=\"https://colab.research.google.com/assets/colab-badge.svg\" alt=\"Open In Colab\"/></a>"
      ]
    },
    {
      "cell_type": "markdown",
      "metadata": {
        "id": "LoSLMqaoHMXt",
        "colab_type": "text"
      },
      "source": [
        "# **Numpy Arrays**\n",
        "\n",
        "Dealing with arrays through numpy library"
      ]
    },
    {
      "cell_type": "markdown",
      "metadata": {
        "id": "vyzHsA3aVboC",
        "colab_type": "text"
      },
      "source": [
        "This section covers some basic array methods, such as:\n",
        "\n",
        "0. np.array( ) `*defined array*`\n",
        "1. np.arange( ) `*cotinuous array*`\n",
        "2. np.zeros( )\n",
        "3. np.ones( )\n",
        "4. np.linspace( ) `*skipping spaces in array*`\n",
        "5. np.eye( ) `*identity matrix*`\n",
        "6. np.random.rand( ) `*random numbers with 0-1 distribution*`\n",
        "7. np.random.randint( ) `*random numbers with 0-1 distribution*`\n",
        "8. np.random.randn( ) `*random numbers with standard distribution*`\n",
        "9. `<array>`.max( ) | `<array>`.argmax( )\n",
        "10. `<array>`.min( ) | `<array>`.argmin( )\n",
        "11. `<array>`.reshape( )\n",
        "12. `<array>`.shape\n",
        "13. `<array>`.dtype\n",
        "\n"
      ]
    },
    {
      "cell_type": "code",
      "metadata": {
        "id": "oXoqI2PAHTN5",
        "colab_type": "code",
        "colab": {}
      },
      "source": [
        "my_list = [1,2,3]"
      ],
      "execution_count": null,
      "outputs": []
    },
    {
      "cell_type": "code",
      "metadata": {
        "id": "EL8FFo-yHw4z",
        "colab_type": "code",
        "colab": {}
      },
      "source": [
        "import numpy as np"
      ],
      "execution_count": null,
      "outputs": []
    },
    {
      "cell_type": "code",
      "metadata": {
        "id": "EaAoBSXSHz_m",
        "colab_type": "code",
        "colab": {}
      },
      "source": [
        "arr = np.array(my_list)"
      ],
      "execution_count": null,
      "outputs": []
    },
    {
      "cell_type": "code",
      "metadata": {
        "id": "QtTFf-19H5HD",
        "colab_type": "code",
        "colab": {}
      },
      "source": [
        "my_mat = [[1,2,3],[4,5,6],[7,8,9]]"
      ],
      "execution_count": null,
      "outputs": []
    },
    {
      "cell_type": "code",
      "metadata": {
        "id": "hJHSuHEsIU9s",
        "colab_type": "code",
        "colab": {
          "base_uri": "https://localhost:8080/",
          "height": 70
        },
        "outputId": "24b2bcc9-0e18-4984-e34b-2e4f434d8935"
      },
      "source": [
        "#Creating an array in a conventional way\n",
        "np.array(my_mat)"
      ],
      "execution_count": null,
      "outputs": [
        {
          "output_type": "execute_result",
          "data": {
            "text/plain": [
              "array([[1, 2, 3],\n",
              "       [4, 5, 6],\n",
              "       [7, 8, 9]])"
            ]
          },
          "metadata": {
            "tags": []
          },
          "execution_count": 8
        }
      ]
    },
    {
      "cell_type": "code",
      "metadata": {
        "id": "D9vIYvuMIduq",
        "colab_type": "code",
        "colab": {
          "base_uri": "https://localhost:8080/",
          "height": 34
        },
        "outputId": "8b29394c-c8c5-4112-8ab8-441d2fd9194c"
      },
      "source": [
        "#Creating an array in numpy destination functions\n",
        "np.arange(0,11)"
      ],
      "execution_count": null,
      "outputs": [
        {
          "output_type": "execute_result",
          "data": {
            "text/plain": [
              "array([ 0,  2,  4,  6,  8, 10])"
            ]
          },
          "metadata": {
            "tags": []
          },
          "execution_count": 12
        }
      ]
    },
    {
      "cell_type": "code",
      "metadata": {
        "id": "Nsu7QIs9JGGO",
        "colab_type": "code",
        "colab": {
          "base_uri": "https://localhost:8080/",
          "height": 34
        },
        "outputId": "2f41881a-9647-49ad-d0d3-f435fe2362c0"
      },
      "source": [
        "#Skipping numbers in array\n",
        "np.arange(0,11,2)"
      ],
      "execution_count": null,
      "outputs": [
        {
          "output_type": "execute_result",
          "data": {
            "text/plain": [
              "array([ 0,  2,  4,  6,  8, 10])"
            ]
          },
          "metadata": {
            "tags": []
          },
          "execution_count": 13
        }
      ]
    },
    {
      "cell_type": "code",
      "metadata": {
        "id": "d_Jbh06kJdhK",
        "colab_type": "code",
        "colab": {
          "base_uri": "https://localhost:8080/",
          "height": 34
        },
        "outputId": "1ff8daed-d3d1-4bd3-f50f-72b794d2c683"
      },
      "source": [
        "#array of zeros and ones\n",
        "np.zeros(3)"
      ],
      "execution_count": null,
      "outputs": [
        {
          "output_type": "execute_result",
          "data": {
            "text/plain": [
              "array([0., 0., 0.])"
            ]
          },
          "metadata": {
            "tags": []
          },
          "execution_count": 18
        }
      ]
    },
    {
      "cell_type": "code",
      "metadata": {
        "id": "1ItRtiv_JpJm",
        "colab_type": "code",
        "colab": {
          "base_uri": "https://localhost:8080/",
          "height": 52
        },
        "outputId": "0d10fd81-7c1d-424c-986d-5fa5ba6e091f"
      },
      "source": [
        "np.zeros((2,3))"
      ],
      "execution_count": null,
      "outputs": [
        {
          "output_type": "execute_result",
          "data": {
            "text/plain": [
              "array([[0., 0., 0.],\n",
              "       [0., 0., 0.]])"
            ]
          },
          "metadata": {
            "tags": []
          },
          "execution_count": 19
        }
      ]
    },
    {
      "cell_type": "code",
      "metadata": {
        "id": "YY1WyPuqJ1VO",
        "colab_type": "code",
        "colab": {
          "base_uri": "https://localhost:8080/",
          "height": 52
        },
        "outputId": "282cabfe-2a62-4e6c-9477-1cb92753d7ed"
      },
      "source": [
        "np.ones((2,3))"
      ],
      "execution_count": null,
      "outputs": [
        {
          "output_type": "execute_result",
          "data": {
            "text/plain": [
              "array([[1., 1., 1.],\n",
              "       [1., 1., 1.]])"
            ]
          },
          "metadata": {
            "tags": []
          },
          "execution_count": 20
        }
      ]
    },
    {
      "cell_type": "code",
      "metadata": {
        "id": "ecCJK3V7J9p7",
        "colab_type": "code",
        "colab": {
          "base_uri": "https://localhost:8080/",
          "height": 52
        },
        "outputId": "36925361-6c02-4dc3-911c-08652e59a688"
      },
      "source": [
        "#array with evenly space points\n",
        "#notice that one and two dimensional arrays are differentiated by the numbers of brackets at the beginning\n",
        "np.linspace(0,5,10)"
      ],
      "execution_count": null,
      "outputs": [
        {
          "output_type": "execute_result",
          "data": {
            "text/plain": [
              "array([0.        , 0.55555556, 1.11111111, 1.66666667, 2.22222222,\n",
              "       2.77777778, 3.33333333, 3.88888889, 4.44444444, 5.        ])"
            ]
          },
          "metadata": {
            "tags": []
          },
          "execution_count": 23
        }
      ]
    },
    {
      "cell_type": "code",
      "metadata": {
        "id": "VEkUgW5GKHnx",
        "colab_type": "code",
        "colab": {
          "base_uri": "https://localhost:8080/",
          "height": 105
        },
        "outputId": "e646a5a1-1a75-4dda-f53c-9b67c1f5c77b"
      },
      "source": [
        "#Identity matrix\n",
        "np.eye(5)"
      ],
      "execution_count": null,
      "outputs": [
        {
          "output_type": "execute_result",
          "data": {
            "text/plain": [
              "array([[1., 0., 0., 0., 0.],\n",
              "       [0., 1., 0., 0., 0.],\n",
              "       [0., 0., 1., 0., 0.],\n",
              "       [0., 0., 0., 1., 0.],\n",
              "       [0., 0., 0., 0., 1.]])"
            ]
          },
          "metadata": {
            "tags": []
          },
          "execution_count": 29
        }
      ]
    },
    {
      "cell_type": "code",
      "metadata": {
        "id": "k7fYqkIMQvkL",
        "colab_type": "code",
        "colab": {
          "base_uri": "https://localhost:8080/",
          "height": 34
        },
        "outputId": "27f42d70-471b-446f-ab63-37f9e7c5fc24"
      },
      "source": [
        "#random numbers with 0-1 distribution\n",
        "np.random.rand(5)"
      ],
      "execution_count": null,
      "outputs": [
        {
          "output_type": "execute_result",
          "data": {
            "text/plain": [
              "array([0.70499884, 0.15064103, 0.53589463, 0.88214947, 0.30629731])"
            ]
          },
          "metadata": {
            "tags": []
          },
          "execution_count": 26
        }
      ]
    },
    {
      "cell_type": "code",
      "metadata": {
        "id": "-zq5uk8HQ5R-",
        "colab_type": "code",
        "colab": {
          "base_uri": "https://localhost:8080/",
          "height": 105
        },
        "outputId": "483029b0-878b-4e3e-8b05-af1dc8d7a072"
      },
      "source": [
        "np.random.rand(5,5)"
      ],
      "execution_count": null,
      "outputs": [
        {
          "output_type": "execute_result",
          "data": {
            "text/plain": [
              "array([[0.11224668, 0.54351811, 0.04059516, 0.14794192, 0.97687523],\n",
              "       [0.37178447, 0.22196751, 0.25177656, 0.59405286, 0.18161683],\n",
              "       [0.88062366, 0.99648112, 0.9866243 , 0.13982035, 0.64861106],\n",
              "       [0.01013728, 0.98378099, 0.2471038 , 0.18656626, 0.73242375],\n",
              "       [0.82864708, 0.06273885, 0.95549163, 0.59862738, 0.90950073]])"
            ]
          },
          "metadata": {
            "tags": []
          },
          "execution_count": 27
        }
      ]
    },
    {
      "cell_type": "code",
      "metadata": {
        "id": "EPgT0ledRBDk",
        "colab_type": "code",
        "colab": {
          "base_uri": "https://localhost:8080/",
          "height": 34
        },
        "outputId": "2428bec5-b4a1-4f98-9990-ee122bf4c8ad"
      },
      "source": [
        "#random numbers with standard distribution\n",
        "np.random.randn(2)"
      ],
      "execution_count": null,
      "outputs": [
        {
          "output_type": "execute_result",
          "data": {
            "text/plain": [
              "array([ 1.41351092, -1.0647409 ])"
            ]
          },
          "metadata": {
            "tags": []
          },
          "execution_count": 28
        }
      ]
    },
    {
      "cell_type": "code",
      "metadata": {
        "id": "Tkj8aFDWRRxe",
        "colab_type": "code",
        "colab": {
          "base_uri": "https://localhost:8080/",
          "height": 87
        },
        "outputId": "00ebd10c-398d-446e-d711-d5a1d82e42b7"
      },
      "source": [
        "np.random.randn(4,4)"
      ],
      "execution_count": null,
      "outputs": [
        {
          "output_type": "execute_result",
          "data": {
            "text/plain": [
              "array([[ 0.08741387, -1.14457405, -1.64921774, -0.57351463],\n",
              "       [ 0.9313228 ,  0.05428205,  0.53956592,  0.40114468],\n",
              "       [ 0.0257939 , -0.47924138,  1.31170965,  0.44666471],\n",
              "       [ 0.38452079,  0.62563689,  0.48916293, -1.9231175 ]])"
            ]
          },
          "metadata": {
            "tags": []
          },
          "execution_count": 30
        }
      ]
    },
    {
      "cell_type": "code",
      "metadata": {
        "id": "ljGRFnMYRy_1",
        "colab_type": "code",
        "colab": {
          "base_uri": "https://localhost:8080/",
          "height": 34
        },
        "outputId": "eca3e022-2d6a-4937-9bf7-0c7566a3f9eb"
      },
      "source": [
        "#integers with exclusive in the higher\n",
        "np.random.randint(1,100,10)"
      ],
      "execution_count": null,
      "outputs": [
        {
          "output_type": "execute_result",
          "data": {
            "text/plain": [
              "array([88, 96, 97, 39, 33, 88, 40, 34, 64,  8])"
            ]
          },
          "metadata": {
            "tags": []
          },
          "execution_count": 32
        }
      ]
    },
    {
      "cell_type": "code",
      "metadata": {
        "id": "XqYN9ZQQR6pt",
        "colab_type": "code",
        "colab": {
          "base_uri": "https://localhost:8080/",
          "height": 52
        },
        "outputId": "5a81c7c4-bcf7-43b3-eea8-d6d7cc88b40e"
      },
      "source": [
        "arr = np.arange(25)\n",
        "arr"
      ],
      "execution_count": null,
      "outputs": [
        {
          "output_type": "execute_result",
          "data": {
            "text/plain": [
              "array([ 0,  1,  2,  3,  4,  5,  6,  7,  8,  9, 10, 11, 12, 13, 14, 15, 16,\n",
              "       17, 18, 19, 20, 21, 22, 23, 24])"
            ]
          },
          "metadata": {
            "tags": []
          },
          "execution_count": 34
        }
      ]
    },
    {
      "cell_type": "code",
      "metadata": {
        "id": "evmg-URmSI2S",
        "colab_type": "code",
        "colab": {
          "base_uri": "https://localhost:8080/",
          "height": 34
        },
        "outputId": "42cf2c86-503d-46b5-cf81-94d1df954138"
      },
      "source": [
        "ranarr = np.random.randint(0,50,10)\n",
        "ranarr"
      ],
      "execution_count": null,
      "outputs": [
        {
          "output_type": "execute_result",
          "data": {
            "text/plain": [
              "array([48, 34,  5, 15,  0, 47,  0, 31, 43, 37])"
            ]
          },
          "metadata": {
            "tags": []
          },
          "execution_count": 36
        }
      ]
    },
    {
      "cell_type": "code",
      "metadata": {
        "id": "VrNH6lmMSXJP",
        "colab_type": "code",
        "colab": {
          "base_uri": "https://localhost:8080/",
          "height": 105
        },
        "outputId": "71275e51-9d31-4b3a-cc87-ca38876d5732"
      },
      "source": [
        "#reshape method - just works with the proper number of elements\n",
        "arr.reshape(5,5)"
      ],
      "execution_count": null,
      "outputs": [
        {
          "output_type": "execute_result",
          "data": {
            "text/plain": [
              "array([[ 0,  1,  2,  3,  4],\n",
              "       [ 5,  6,  7,  8,  9],\n",
              "       [10, 11, 12, 13, 14],\n",
              "       [15, 16, 17, 18, 19],\n",
              "       [20, 21, 22, 23, 24]])"
            ]
          },
          "metadata": {
            "tags": []
          },
          "execution_count": 40
        }
      ]
    },
    {
      "cell_type": "code",
      "metadata": {
        "id": "L6vy653TShX-",
        "colab_type": "code",
        "colab": {
          "base_uri": "https://localhost:8080/",
          "height": 34
        },
        "outputId": "6feaec4e-a39e-4640-a510-3542dd33a58d"
      },
      "source": [
        "ranarr"
      ],
      "execution_count": null,
      "outputs": [
        {
          "output_type": "execute_result",
          "data": {
            "text/plain": [
              "array([48, 34,  5, 15,  0, 47,  0, 31, 43, 37])"
            ]
          },
          "metadata": {
            "tags": []
          },
          "execution_count": 43
        }
      ]
    },
    {
      "cell_type": "code",
      "metadata": {
        "id": "3QrsfpvISw3w",
        "colab_type": "code",
        "colab": {
          "base_uri": "https://localhost:8080/",
          "height": 34
        },
        "outputId": "be2ceae8-83df-4030-fe03-afb745892b3b"
      },
      "source": [
        "ranarr.max()"
      ],
      "execution_count": null,
      "outputs": [
        {
          "output_type": "execute_result",
          "data": {
            "text/plain": [
              "48"
            ]
          },
          "metadata": {
            "tags": []
          },
          "execution_count": 44
        }
      ]
    },
    {
      "cell_type": "code",
      "metadata": {
        "id": "4-bb3cUZS8Dy",
        "colab_type": "code",
        "colab": {
          "base_uri": "https://localhost:8080/",
          "height": 34
        },
        "outputId": "f02c74fe-e0ab-43eb-b9f5-3c28cf647aee"
      },
      "source": [
        "ranarr.min()"
      ],
      "execution_count": null,
      "outputs": [
        {
          "output_type": "execute_result",
          "data": {
            "text/plain": [
              "0"
            ]
          },
          "metadata": {
            "tags": []
          },
          "execution_count": 45
        }
      ]
    },
    {
      "cell_type": "code",
      "metadata": {
        "id": "8V2VrKoQS4LV",
        "colab_type": "code",
        "colab": {
          "base_uri": "https://localhost:8080/",
          "height": 34
        },
        "outputId": "ae73a96b-cd34-4964-f166-16e2675b0da1"
      },
      "source": [
        "ranarr.argmax()"
      ],
      "execution_count": null,
      "outputs": [
        {
          "output_type": "execute_result",
          "data": {
            "text/plain": [
              "0"
            ]
          },
          "metadata": {
            "tags": []
          },
          "execution_count": 47
        }
      ]
    },
    {
      "cell_type": "code",
      "metadata": {
        "id": "epOPbnQUTC20",
        "colab_type": "code",
        "colab": {
          "base_uri": "https://localhost:8080/",
          "height": 34
        },
        "outputId": "e2bc56c8-559b-4ad3-c489-f3d2c87de043"
      },
      "source": [
        "ranarr.argmin()"
      ],
      "execution_count": null,
      "outputs": [
        {
          "output_type": "execute_result",
          "data": {
            "text/plain": [
              "4"
            ]
          },
          "metadata": {
            "tags": []
          },
          "execution_count": 48
        }
      ]
    },
    {
      "cell_type": "code",
      "metadata": {
        "id": "3Ygi83LMTGIk",
        "colab_type": "code",
        "colab": {
          "base_uri": "https://localhost:8080/",
          "height": 34
        },
        "outputId": "5808f056-a321-41d8-9544-5197de078c81"
      },
      "source": [
        "arr = arr.reshape(5,5)\n",
        "arr.shape"
      ],
      "execution_count": null,
      "outputs": [
        {
          "output_type": "execute_result",
          "data": {
            "text/plain": [
              "(5, 5)"
            ]
          },
          "metadata": {
            "tags": []
          },
          "execution_count": 50
        }
      ]
    },
    {
      "cell_type": "code",
      "metadata": {
        "id": "hLOW1ZhZTSPP",
        "colab_type": "code",
        "colab": {
          "base_uri": "https://localhost:8080/",
          "height": 34
        },
        "outputId": "32c5a0d4-05d5-400b-a689-651609f10229"
      },
      "source": [
        "arr.dtype"
      ],
      "execution_count": null,
      "outputs": [
        {
          "output_type": "execute_result",
          "data": {
            "text/plain": [
              "dtype('int64')"
            ]
          },
          "metadata": {
            "tags": []
          },
          "execution_count": 51
        }
      ]
    },
    {
      "cell_type": "code",
      "metadata": {
        "id": "8LXglmSiTbLM",
        "colab_type": "code",
        "colab": {}
      },
      "source": [
        "#importing an specific method fromm numpy library directly\n",
        "\n",
        "from numpy.random import randint"
      ],
      "execution_count": null,
      "outputs": []
    },
    {
      "cell_type": "code",
      "metadata": {
        "id": "Y0_l-5wTTtC-",
        "colab_type": "code",
        "colab": {
          "base_uri": "https://localhost:8080/",
          "height": 34
        },
        "outputId": "da2c1857-b330-4b62-a78e-487a6a7c3d17"
      },
      "source": [
        "randint(2,10,10)"
      ],
      "execution_count": null,
      "outputs": [
        {
          "output_type": "execute_result",
          "data": {
            "text/plain": [
              "array([5, 2, 6, 2, 5, 3, 6, 4, 6, 4])"
            ]
          },
          "metadata": {
            "tags": []
          },
          "execution_count": 54
        }
      ]
    },
    {
      "cell_type": "markdown",
      "metadata": {
        "id": "Q9C9xYG7ZW5y",
        "colab_type": "text"
      },
      "source": [
        "# **Numpy Indexing and Selection**"
      ]
    },
    {
      "cell_type": "code",
      "metadata": {
        "id": "92LcWJBbxz4Z",
        "colab_type": "code",
        "colab": {
          "base_uri": "https://localhost:8080/",
          "height": 122
        },
        "outputId": "c218de8d-6f3b-41f2-9a8a-1c0d5b104e5f"
      },
      "source": [
        "import numpy as np\n",
        "\n",
        "arr0 = np.arange(0,11)\n",
        "arr1 = arr[8]\n",
        "arr2 = arr[1:5]\n",
        "arr3 = arr[0:5]\n",
        "arr4 = arr[:6]\n",
        "arr5 = arr[5:]\n",
        "\n",
        "print(arr0)\n",
        "print(arr1)\n",
        "print(arr2)\n",
        "print(arr3)\n",
        "print(arr4)\n",
        "print(arr5)"
      ],
      "execution_count": 24,
      "outputs": [
        {
          "output_type": "stream",
          "text": [
            "[ 0  1  2  3  4  5  6  7  8  9 10]\n",
            "8\n",
            "[1 2 3 4]\n",
            "[0 1 2 3 4]\n",
            "[0 1 2 3 4 5]\n",
            "[ 5  6  7  8  9 10]\n"
          ],
          "name": "stdout"
        }
      ]
    },
    {
      "cell_type": "code",
      "metadata": {
        "id": "FZMFv2C5y5z1",
        "colab_type": "code",
        "colab": {
          "base_uri": "https://localhost:8080/",
          "height": 52
        },
        "outputId": "438c60aa-830f-435e-aea6-6efd796ceea2"
      },
      "source": [
        "# Broadcasting values through arrays\n",
        "slice_of_array = arr0\n",
        "slice_of_array[0:5] = 100\n",
        "print('sliced and modified array: ',slice_of_array)\n",
        "\n",
        "slice_of_array[:] = 99\n",
        "print('same array modified again: ', slice_of_array)\n"
      ],
      "execution_count": 25,
      "outputs": [
        {
          "output_type": "stream",
          "text": [
            "sliced and modified array:  [100 100 100 100 100   5   6   7   8   9  10]\n",
            "same array modified again:  [99 99 99 99 99 99 99 99 99 99 99]\n"
          ],
          "name": "stdout"
        }
      ]
    },
    {
      "cell_type": "code",
      "metadata": {
        "id": "CqonS9Ulzj6c",
        "colab_type": "code",
        "colab": {
          "base_uri": "https://localhost:8080/",
          "height": 52
        },
        "outputId": "6dd09cc6-b0be-466f-f4b0-8fc7e6c7dbec"
      },
      "source": [
        "#Creating array copies\n",
        "arr0_copy = arr0.copy()\n",
        "\n",
        "arr0_copy[:] = 50\n",
        "\n",
        "print('copied array: ',arr0_copy)\n",
        "print('original array: ',arr0)"
      ],
      "execution_count": 26,
      "outputs": [
        {
          "output_type": "stream",
          "text": [
            "copied array:  [50 50 50 50 50 50 50 50 50 50 50]\n",
            "original array:  [99 99 99 99 99 99 99 99 99 99 99]\n"
          ],
          "name": "stdout"
        }
      ]
    },
    {
      "cell_type": "code",
      "metadata": {
        "id": "MX82Xw0J1iZW",
        "colab_type": "code",
        "colab": {
          "base_uri": "https://localhost:8080/",
          "height": 70
        },
        "outputId": "f683478b-edd0-4e36-cfbd-3398fa0f3365"
      },
      "source": [
        "arr_2d = np.array([[5,10,15],[20,25,30],[35,40,45]])\n",
        "arr_2d"
      ],
      "execution_count": 29,
      "outputs": [
        {
          "output_type": "execute_result",
          "data": {
            "text/plain": [
              "array([[ 5, 10, 15],\n",
              "       [20, 25, 30],\n",
              "       [35, 40, 45]])"
            ]
          },
          "metadata": {
            "tags": []
          },
          "execution_count": 29
        }
      ]
    },
    {
      "cell_type": "code",
      "metadata": {
        "id": "Z1pnmO_h2sS8",
        "colab_type": "code",
        "colab": {
          "base_uri": "https://localhost:8080/",
          "height": 87
        },
        "outputId": "48194dd6-4ec8-4517-c88c-7b609e03225c"
      },
      "source": [
        "#Grabbing elements from array\n",
        "arr1_2d = arr_2d[1][1]\n",
        "print(arr1_2d)\n",
        "\n",
        "arr2_2d = arr_2d[1,1]\n",
        "print(arr2_2d)\n",
        "\n",
        "arr3_2d = arr_2d[:1]\n",
        "print(arr3_2d)\n",
        "\n",
        "arr4_2d = arr_2d[:1,2:]\n",
        "print(arr4_2d)\n"
      ],
      "execution_count": 40,
      "outputs": [
        {
          "output_type": "stream",
          "text": [
            "25\n",
            "25\n",
            "[[ 5 10 15]]\n",
            "[[15]]\n"
          ],
          "name": "stdout"
        }
      ]
    },
    {
      "cell_type": "code",
      "metadata": {
        "id": "l6eKGHcH3e_c",
        "colab_type": "code",
        "colab": {
          "base_uri": "https://localhost:8080/",
          "height": 52
        },
        "outputId": "858f42dd-48b0-400c-cadd-2690d5f5e065"
      },
      "source": [
        "#Conditional selection\n",
        "arr = np.arange(1,11)\n",
        "print(arr)\n",
        "print(arr>5)"
      ],
      "execution_count": 43,
      "outputs": [
        {
          "output_type": "stream",
          "text": [
            "[ 1  2  3  4  5  6  7  8  9 10]\n",
            "[False False False False False  True  True  True  True  True]\n"
          ],
          "name": "stdout"
        }
      ]
    },
    {
      "cell_type": "code",
      "metadata": {
        "id": "BN3Mblao5phW",
        "colab_type": "code",
        "colab": {
          "base_uri": "https://localhost:8080/",
          "height": 52
        },
        "outputId": "71144087-bf3c-44cd-9a1b-08d85df7396c"
      },
      "source": [
        "bool_array = arr>5\n",
        "bool_array\n",
        "\n",
        "arr1 = arr[bool_array]\n",
        "arr2 = arr[arr>5]\n",
        "print(arr1)\n",
        "print(arr2)"
      ],
      "execution_count": 48,
      "outputs": [
        {
          "output_type": "stream",
          "text": [
            "[ 6  7  8  9 10]\n",
            "[ 6  7  8  9 10]\n"
          ],
          "name": "stdout"
        }
      ]
    },
    {
      "cell_type": "code",
      "metadata": {
        "id": "DT-FRYQF6D0r",
        "colab_type": "code",
        "colab": {
          "base_uri": "https://localhost:8080/",
          "height": 52
        },
        "outputId": "2ba79621-ace3-4c72-929a-44d1d508ea70"
      },
      "source": [
        "#Example\n",
        "\n",
        "arr_2d = np.arange(50).reshape(5,10)\n",
        "arr_2d[1:3,3:5]"
      ],
      "execution_count": 52,
      "outputs": [
        {
          "output_type": "execute_result",
          "data": {
            "text/plain": [
              "array([[13, 14],\n",
              "       [23, 24]])"
            ]
          },
          "metadata": {
            "tags": []
          },
          "execution_count": 52
        }
      ]
    },
    {
      "cell_type": "markdown",
      "metadata": {
        "id": "bzNEU-IYJHQ1",
        "colab_type": "text"
      },
      "source": [
        ""
      ]
    },
    {
      "cell_type": "markdown",
      "metadata": {
        "id": "r8uQEfOw9Qck",
        "colab_type": "text"
      },
      "source": [
        "# **Numpy Operations**\n",
        "\n",
        "0. Array with Array\n",
        "1. Array with Scalars\n",
        "2. Universal Array Functions"
      ]
    },
    {
      "cell_type": "code",
      "metadata": {
        "id": "OmJzGHBF9cKU",
        "colab_type": "code",
        "colab": {
          "base_uri": "https://localhost:8080/",
          "height": 140
        },
        "outputId": "3026733b-e2cc-4f94-9c23-688f18585771"
      },
      "source": [
        "import numpy as np\n",
        "\n",
        "arr = np.arange(0,11)\n",
        "arr_nzeros = arr[arr>0]\n",
        "\n",
        "arr_add = arr + arr\n",
        "arr_sub = arr - arr\n",
        "arr_mult = arr * arr\n",
        "arr_div = arr_nzeros / arr_nzeros\n",
        "arr_exp = arr_nzeros**arr_nzeros\n",
        "\n",
        "arr_100 = arr-100\n",
        "\n",
        "print(arr_add)\n",
        "print(arr_sub)\n",
        "print(arr_mult)\n",
        "print(arr_div)\n",
        "print(arr_exp)\n",
        "print(arr_100)"
      ],
      "execution_count": 69,
      "outputs": [
        {
          "output_type": "stream",
          "text": [
            "[ 0  2  4  6  8 10 12 14 16 18 20]\n",
            "[0 0 0 0 0 0 0 0 0 0 0]\n",
            "[  0   1   4   9  16  25  36  49  64  81 100]\n",
            "[1. 1. 1. 1. 1. 1. 1. 1. 1. 1.]\n",
            "[          1           4          27         256        3125       46656\n",
            "      823543    16777216   387420489 10000000000]\n",
            "[-100  -99  -98  -97  -96  -95  -94  -93  -92  -91  -90]\n"
          ],
          "name": "stdout"
        }
      ]
    },
    {
      "cell_type": "code",
      "metadata": {
        "id": "VaJIsWSs9eTI",
        "colab_type": "code",
        "colab": {
          "base_uri": "https://localhost:8080/",
          "height": 70
        },
        "outputId": "e912baf0-1d97-4447-f25b-64ff3cfd32e7"
      },
      "source": [
        "#Array Functions/methods\n",
        "\n",
        "#Array square times\n",
        "np.sqrt(arr)"
      ],
      "execution_count": 71,
      "outputs": [
        {
          "output_type": "execute_result",
          "data": {
            "text/plain": [
              "array([0.        , 1.        , 1.41421356, 1.73205081, 2.        ,\n",
              "       2.23606798, 2.44948974, 2.64575131, 2.82842712, 3.        ,\n",
              "       3.16227766])"
            ]
          },
          "metadata": {
            "tags": []
          },
          "execution_count": 71
        }
      ]
    },
    {
      "cell_type": "code",
      "metadata": {
        "id": "-jPFafXIIOUB",
        "colab_type": "code",
        "colab": {
          "base_uri": "https://localhost:8080/",
          "height": 70
        },
        "outputId": "87ab3d1d-08db-4bb3-89d9-93369de2eeb7"
      },
      "source": [
        "#Exponential Array\n",
        "np.exp(arr)"
      ],
      "execution_count": 72,
      "outputs": [
        {
          "output_type": "execute_result",
          "data": {
            "text/plain": [
              "array([1.00000000e+00, 2.71828183e+00, 7.38905610e+00, 2.00855369e+01,\n",
              "       5.45981500e+01, 1.48413159e+02, 4.03428793e+02, 1.09663316e+03,\n",
              "       2.98095799e+03, 8.10308393e+03, 2.20264658e+04])"
            ]
          },
          "metadata": {
            "tags": []
          },
          "execution_count": 72
        }
      ]
    },
    {
      "cell_type": "code",
      "metadata": {
        "id": "1wSylOTuIbkA",
        "colab_type": "code",
        "colab": {
          "base_uri": "https://localhost:8080/",
          "height": 34
        },
        "outputId": "293476e2-4c6a-4361-be84-224be5ac9061"
      },
      "source": [
        "#Array Maximum\n",
        "np.max(arr)"
      ],
      "execution_count": 74,
      "outputs": [
        {
          "output_type": "execute_result",
          "data": {
            "text/plain": [
              "10"
            ]
          },
          "metadata": {
            "tags": []
          },
          "execution_count": 74
        }
      ]
    },
    {
      "cell_type": "code",
      "metadata": {
        "id": "sHGEUrTQIiC2",
        "colab_type": "code",
        "colab": {
          "base_uri": "https://localhost:8080/",
          "height": 70
        },
        "outputId": "5ad421d9-6495-4dad-f428-731c028e28a1"
      },
      "source": [
        "#Array Sine\n",
        "np.sin(arr)"
      ],
      "execution_count": 75,
      "outputs": [
        {
          "output_type": "execute_result",
          "data": {
            "text/plain": [
              "array([ 0.        ,  0.84147098,  0.90929743,  0.14112001, -0.7568025 ,\n",
              "       -0.95892427, -0.2794155 ,  0.6569866 ,  0.98935825,  0.41211849,\n",
              "       -0.54402111])"
            ]
          },
          "metadata": {
            "tags": []
          },
          "execution_count": 75
        }
      ]
    },
    {
      "cell_type": "code",
      "metadata": {
        "id": "mxmhZRkdIlfJ",
        "colab_type": "code",
        "colab": {
          "base_uri": "https://localhost:8080/",
          "height": 52
        },
        "outputId": "5481d6da-4085-4f18-dc99-80654fb7e4a9"
      },
      "source": [
        "#Array Logs\n",
        "np.log(arr_nzeros)"
      ],
      "execution_count": 77,
      "outputs": [
        {
          "output_type": "execute_result",
          "data": {
            "text/plain": [
              "array([0.        , 0.69314718, 1.09861229, 1.38629436, 1.60943791,\n",
              "       1.79175947, 1.94591015, 2.07944154, 2.19722458, 2.30258509])"
            ]
          },
          "metadata": {
            "tags": []
          },
          "execution_count": 77
        }
      ]
    },
    {
      "cell_type": "code",
      "metadata": {
        "id": "yfavygUmIxzp",
        "colab_type": "code",
        "colab": {}
      },
      "source": [
        ""
      ],
      "execution_count": null,
      "outputs": []
    }
  ]
}
