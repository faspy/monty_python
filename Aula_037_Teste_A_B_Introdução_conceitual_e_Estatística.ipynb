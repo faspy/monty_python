{
  "nbformat": 4,
  "nbformat_minor": 0,
  "metadata": {
    "colab": {
      "name": "Aula 037 - Teste A/B - Introdução conceitual e Estatística.ipynb",
      "provenance": [],
      "collapsed_sections": [],
      "toc_visible": true,
      "include_colab_link": true
    },
    "kernelspec": {
      "name": "python3",
      "display_name": "Python 3"
    }
  },
  "cells": [
    {
      "cell_type": "markdown",
      "metadata": {
        "id": "view-in-github",
        "colab_type": "text"
      },
      "source": [
        "<a href=\"https://colab.research.google.com/github/faspy/monty_python/blob/master/Aula_037_Teste_A_B_Introdu%C3%A7%C3%A3o_conceitual_e_Estat%C3%ADstica.ipynb\" target=\"_parent\"><img src=\"https://colab.research.google.com/assets/colab-badge.svg\" alt=\"Open In Colab\"/></a>"
      ]
    },
    {
      "cell_type": "markdown",
      "metadata": {
        "id": "NMdWMqQcvolE"
      },
      "source": [
        "# Aula 037: Teste A/B - Introdução conceitual e Estatística\n",
        "\n",
        "**Testes A/B são experimentos que permitem rodar experimentos e comparar de maneira científica, múltiplas versões de um determinado produto, site ou *app***.\n",
        "\n",
        "Podendo ser vistos como experimentos controlados, que fornecem insumos ao processo de tomada de decisão (*data driven*), geralmente são aplicados para medirem impactos nas alterações feitas e comparar diferentes variações em campanhas de marketing, *features* em aplicativos ou websites.\n",
        "\n",
        "Apesar de poderem ser aplicados aos mais diferentes tipos de contexto, no caso desta sequência de aulas da Escola de Data Science, iremos explicar **Testes A/B dentro da perspectiva do perspectiva de desenvolvimento de apps, websites e marketing digital.**\n",
        "\n",
        "> Imagine que você tem uma página de vendas de um curso online. Nessa página, você tem elementos como headline *H1*, uma breve descrição da transformação esperada e um botão com um CTA (*call to action*).\n",
        "\n",
        "Chega o dia de abrir o carrinho de vendas e... as conversões não saíram como se era esperado. Menos de 1.0\\% dos visitantes compraram seu curso.\n",
        "\n",
        "Como bom aluno do **O Novo Mercado**, você começa imediatamente a se questionar: **\"será que se eu trocar a cor do CTA para verde, eu consigo aumentar a minha conversão para pelo menos 1.5%?**\n",
        "\n",
        "<center><img src=\"https://i.ibb.co/tYJY4KD/cta-teste-ab.png\"></center>\n",
        "\n",
        "No momento que você decide fazer o seu **Teste A/B**, que você achava que seria \"tranquilo\", **surgem algumas dúvidas básicas, do tipo:**\n",
        "\n",
        "* Basta eu desviar metade do meu tráfego para a nova versão, comparar e eleger a página que converteu mais, pura e simplesmente?\n",
        "* Qual é a confiabilidade desse meu experimento?\n",
        "* Posso mudar o site inteiro ou apenas uma única *feature*?\n",
        "* Meu experimento teve significância estatística?\n",
        "* Como ter certeza que os dados não estão enviesados?\n",
        "* Fiz merda e tirei conclusões precipitadas?\n",
        "* Quando abre o Data Science na Prática???\n",
        "\n",
        "Pois é. \n",
        "\n",
        "Para fazer experimentos do tipo Teste A/B, você precisa conhecer alguns fundamentos da estatística antes de simplementes começar a codar. Isso foi providenciado na Aula 036.\n",
        "\n",
        "## Etapas de um Teste A/B\n",
        "\n",
        "Não há uma única maneira de se conduzir um Teste A/B, mas várias. Tudo depende da empresa e das pessoas que estão conduzindo o experimento.\n",
        "\n",
        "No entanto, os passos que irei citar são utilizados comumente, por várias empresas. São eles:\n",
        "\n",
        "1. Formular a hipótese.\n",
        "2. Criar um grupo de controle e um grupo de teste.\n",
        "3. Conduzir o teste, comparar os resultados e rejeitar/não rejeitar a hipótese nula.\n",
        "\n"
      ]
    },
    {
      "cell_type": "code",
      "metadata": {
        "id": "794NkNsrxaO3"
      },
      "source": [
        "# importar bibliotecas\n",
        "import pandas as pd\n",
        "from statsmodels.stats.api import proportion_effectsize, NormalIndPower\n",
        "from statsmodels.stats.proportion import proportions_ztest, proportion_confint\n",
        "from math import ceil\n",
        "import matplotlib.pyplot as plt\n",
        "import numpy as np\n",
        "import seaborn as sns\n",
        "\n",
        "# https://research.usu.edu//irb/wp-content/uploads/sites/12/2015/08/A_Researchers_Guide_to_Power_Analysis_USU.pdf"
      ],
      "execution_count": null,
      "outputs": []
    },
    {
      "cell_type": "code",
      "metadata": {
        "id": "i63bFsIHZ6cv"
      },
      "source": [
        "es = proportion_effectsize(0.10, 0.12)\n",
        "n_necessario = NormalIndPower().solve_power(es, power=0.8, alpha=0.05, ratio=1)"
      ],
      "execution_count": null,
      "outputs": []
    },
    {
      "cell_type": "code",
      "metadata": {
        "colab": {
          "base_uri": "https://localhost:8080/"
        },
        "id": "YKKytc40aXn8",
        "outputId": "b70b0ebe-af86-43d1-86d0-559310d92e43"
      },
      "source": [
        "print(ceil(n_necessario))"
      ],
      "execution_count": null,
      "outputs": [
        {
          "output_type": "stream",
          "text": [
            "3835\n"
          ],
          "name": "stdout"
        }
      ]
    },
    {
      "cell_type": "code",
      "metadata": {
        "id": "zot6TIrfaq2b"
      },
      "source": [
        "df = pd.read_excel(\"/content/dados.xlsx\")"
      ],
      "execution_count": null,
      "outputs": []
    },
    {
      "cell_type": "code",
      "metadata": {
        "colab": {
          "base_uri": "https://localhost:8080/",
          "height": 197
        },
        "id": "QhqAAGAAiNzf",
        "outputId": "3fd52fcc-f63c-45c9-caee-66fac8c272b1"
      },
      "source": [
        "df.head()"
      ],
      "execution_count": null,
      "outputs": [
        {
          "output_type": "execute_result",
          "data": {
            "text/html": [
              "<div>\n",
              "<style scoped>\n",
              "    .dataframe tbody tr th:only-of-type {\n",
              "        vertical-align: middle;\n",
              "    }\n",
              "\n",
              "    .dataframe tbody tr th {\n",
              "        vertical-align: top;\n",
              "    }\n",
              "\n",
              "    .dataframe thead th {\n",
              "        text-align: right;\n",
              "    }\n",
              "</style>\n",
              "<table border=\"1\" class=\"dataframe\">\n",
              "  <thead>\n",
              "    <tr style=\"text-align: right;\">\n",
              "      <th></th>\n",
              "      <th>user_id</th>\n",
              "      <th>timestamp</th>\n",
              "      <th>group</th>\n",
              "      <th>landing_page</th>\n",
              "      <th>converted</th>\n",
              "    </tr>\n",
              "  </thead>\n",
              "  <tbody>\n",
              "    <tr>\n",
              "      <th>0</th>\n",
              "      <td>851104</td>\n",
              "      <td>2017-01-21 22:11:48.556739</td>\n",
              "      <td>controle</td>\n",
              "      <td>page_a</td>\n",
              "      <td>0</td>\n",
              "    </tr>\n",
              "    <tr>\n",
              "      <th>1</th>\n",
              "      <td>804228</td>\n",
              "      <td>2017-01-12 08:01:45.159739</td>\n",
              "      <td>controle</td>\n",
              "      <td>page_a</td>\n",
              "      <td>0</td>\n",
              "    </tr>\n",
              "    <tr>\n",
              "      <th>2</th>\n",
              "      <td>661590</td>\n",
              "      <td>2017-01-11 16:55:06.154213</td>\n",
              "      <td>teste</td>\n",
              "      <td>page_b</td>\n",
              "      <td>0</td>\n",
              "    </tr>\n",
              "    <tr>\n",
              "      <th>3</th>\n",
              "      <td>853541</td>\n",
              "      <td>2017-01-08 18:28:03.143765</td>\n",
              "      <td>teste</td>\n",
              "      <td>page_b</td>\n",
              "      <td>0</td>\n",
              "    </tr>\n",
              "    <tr>\n",
              "      <th>4</th>\n",
              "      <td>864975</td>\n",
              "      <td>2017-01-21 01:52:26.210827</td>\n",
              "      <td>controle</td>\n",
              "      <td>page_a</td>\n",
              "      <td>1</td>\n",
              "    </tr>\n",
              "  </tbody>\n",
              "</table>\n",
              "</div>"
            ],
            "text/plain": [
              "   user_id                   timestamp     group landing_page  converted\n",
              "0   851104  2017-01-21 22:11:48.556739  controle       page_a          0\n",
              "1   804228  2017-01-12 08:01:45.159739  controle       page_a          0\n",
              "2   661590  2017-01-11 16:55:06.154213     teste       page_b          0\n",
              "3   853541  2017-01-08 18:28:03.143765     teste       page_b          0\n",
              "4   864975  2017-01-21 01:52:26.210827  controle       page_a          1"
            ]
          },
          "metadata": {
            "tags": []
          },
          "execution_count": 28
        }
      ]
    },
    {
      "cell_type": "code",
      "metadata": {
        "colab": {
          "base_uri": "https://localhost:8080/"
        },
        "id": "iWoujm0piOvZ",
        "outputId": "623301af-7ce2-41bf-adad-6bcefca165b0"
      },
      "source": [
        "df.info()"
      ],
      "execution_count": null,
      "outputs": [
        {
          "output_type": "stream",
          "text": [
            "<class 'pandas.core.frame.DataFrame'>\n",
            "RangeIndex: 15202 entries, 0 to 15201\n",
            "Data columns (total 5 columns):\n",
            " #   Column        Non-Null Count  Dtype \n",
            "---  ------        --------------  ----- \n",
            " 0   user_id       15202 non-null  int64 \n",
            " 1   timestamp     15202 non-null  object\n",
            " 2   group         15202 non-null  object\n",
            " 3   landing_page  15202 non-null  object\n",
            " 4   converted     15202 non-null  int64 \n",
            "dtypes: int64(2), object(3)\n",
            "memory usage: 594.0+ KB\n"
          ],
          "name": "stdout"
        }
      ]
    },
    {
      "cell_type": "code",
      "metadata": {
        "colab": {
          "base_uri": "https://localhost:8080/"
        },
        "id": "q7SGtPKaiWuE",
        "outputId": "16899dfa-a0cf-415c-8438-667f5661ede0"
      },
      "source": [
        "df.group.value_counts()"
      ],
      "execution_count": null,
      "outputs": [
        {
          "output_type": "execute_result",
          "data": {
            "text/plain": [
              "teste       7627\n",
              "controle    7575\n",
              "Name: group, dtype: int64"
            ]
          },
          "metadata": {
            "tags": []
          },
          "execution_count": 30
        }
      ]
    },
    {
      "cell_type": "code",
      "metadata": {
        "colab": {
          "base_uri": "https://localhost:8080/"
        },
        "id": "Cbv4QwGDjwbA",
        "outputId": "1d7ef97a-a6f2-4b41-b7ce-cd4758c942c1"
      },
      "source": [
        "df.groupby(\"group\")[\"converted\"].mean()"
      ],
      "execution_count": null,
      "outputs": [
        {
          "output_type": "execute_result",
          "data": {
            "text/plain": [
              "group\n",
              "controle    0.121716\n",
              "teste       0.123377\n",
              "Name: converted, dtype: float64"
            ]
          },
          "metadata": {
            "tags": []
          },
          "execution_count": 37
        }
      ]
    },
    {
      "cell_type": "code",
      "metadata": {
        "colab": {
          "base_uri": "https://localhost:8080/"
        },
        "id": "SmP2VfVNj6_l",
        "outputId": "a0f1ded1-137a-4700-ee67-8f9eb63ad669"
      },
      "source": [
        "df.groupby(\"group\")[\"converted\"].std()"
      ],
      "execution_count": null,
      "outputs": [
        {
          "output_type": "execute_result",
          "data": {
            "text/plain": [
              "group\n",
              "controle    0.326979\n",
              "teste       0.328892\n",
              "Name: converted, dtype: float64"
            ]
          },
          "metadata": {
            "tags": []
          },
          "execution_count": 38
        }
      ]
    },
    {
      "cell_type": "code",
      "metadata": {
        "colab": {
          "base_uri": "https://localhost:8080/",
          "height": 334
        },
        "id": "0MosVVpXkarQ",
        "outputId": "35c887fc-b392-485a-e7f1-751b7df4a250"
      },
      "source": [
        "sns.barplot(df.group, df.converted);"
      ],
      "execution_count": null,
      "outputs": [
        {
          "output_type": "stream",
          "text": [
            "/usr/local/lib/python3.6/dist-packages/seaborn/_decorators.py:43: FutureWarning: Pass the following variables as keyword args: x, y. From version 0.12, the only valid positional argument will be `data`, and passing other arguments without an explicit keyword will result in an error or misinterpretation.\n",
            "  FutureWarning\n"
          ],
          "name": "stderr"
        },
        {
          "output_type": "display_data",
          "data": {
            "image/png": "[encoded data removed]",
            "text/plain": [
              "<Figure size 432x288 with 1 Axes>"
            ]
          },
          "metadata": {
            "tags": [],
            "needs_background": "light"
          }
        }
      ]
    },
    {
      "cell_type": "code",
      "metadata": {
        "id": "p4RhrLQFkqM-"
      },
      "source": [
        "# amostra significativa, usaremos distribuição normal para calcular p-value (z-test)\n",
        "controle = df[df.group == 'controle'][\"converted\"]\n",
        "teste = df[df.group == 'teste'][\"converted\"]\n",
        "\n",
        "num_controle = controle.shape[0]\n",
        "num_teste = teste.shape[0]\n",
        "\n",
        "num_observacoes = [controle.shape[0], teste.shape[0]]\n",
        "conversoes = [controle.sum(), teste.sum()]\n",
        "\n",
        "z, p = proportions_ztest(conversoes, num_observacoes)\n",
        "(lower_con, lower_treat), (upper_con, upper_treat) = proportion_confint(conversoes, nobs=num_observacoes, alpha=0.05)"
      ],
      "execution_count": null,
      "outputs": []
    },
    {
      "cell_type": "code",
      "metadata": {
        "colab": {
          "base_uri": "https://localhost:8080/"
        },
        "id": "q3pXI6lvlRWB",
        "outputId": "f79beb16-2f20-4521-f34f-421bb5cf5209"
      },
      "source": [
        "z"
      ],
      "execution_count": null,
      "outputs": [
        {
          "output_type": "execute_result",
          "data": {
            "text/plain": [
              "-0.31231970013340365"
            ]
          },
          "metadata": {
            "tags": []
          },
          "execution_count": 52
        }
      ]
    },
    {
      "cell_type": "code",
      "metadata": {
        "colab": {
          "base_uri": "https://localhost:8080/"
        },
        "id": "wR-TUjkPlR5A",
        "outputId": "fd397d71-8c51-4b83-eb55-a18e156cd9f4"
      },
      "source": [
        "p"
      ],
      "execution_count": null,
      "outputs": [
        {
          "output_type": "execute_result",
          "data": {
            "text/plain": [
              "0.754797569793868"
            ]
          },
          "metadata": {
            "tags": []
          },
          "execution_count": 55
        }
      ]
    },
    {
      "cell_type": "code",
      "metadata": {
        "colab": {
          "base_uri": "https://localhost:8080/"
        },
        "id": "7yhdUQWPlV0j",
        "outputId": "e128733a-35ba-4981-fdf0-61c75fdd8cab"
      },
      "source": [
        "print(lower_con, upper_con)"
      ],
      "execution_count": null,
      "outputs": [
        {
          "output_type": "stream",
          "text": [
            "0.11435328085001002 0.12907906238431344\n"
          ],
          "name": "stdout"
        }
      ]
    },
    {
      "cell_type": "code",
      "metadata": {
        "colab": {
          "base_uri": "https://localhost:8080/"
        },
        "id": "oVl9V45NmpA4",
        "outputId": "93337072-32c3-466c-bdbe-a354e258029b"
      },
      "source": [
        "print(lower_treat, upper_treat)"
      ],
      "execution_count": null,
      "outputs": [
        {
          "output_type": "stream",
          "text": [
            "0.11599681017474814 0.13075813934668887\n"
          ],
          "name": "stdout"
        }
      ]
    },
    {
      "cell_type": "code",
      "metadata": {
        "id": "R2d6Wbk5mr-M"
      },
      "source": [
        ""
      ],
      "execution_count": null,
      "outputs": []
    }
  ]
}