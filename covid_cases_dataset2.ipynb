{
  "nbformat": 4,
  "nbformat_minor": 0,
  "metadata": {
    "colab": {
      "name": "covid.ipynb",
      "provenance": [],
      "authorship_tag": "ABX9TyPtpDaIOicSm9NFkB5uQF6U",
      "include_colab_link": true
    },
    "kernelspec": {
      "name": "python3",
      "display_name": "Python 3"
    }
  },
  "cells": [
    {
      "cell_type": "markdown",
      "metadata": {
        "id": "view-in-github",
        "colab_type": "text"
      },
      "source": [
        "<a href=\"https://colab.research.google.com/github/faspy/monty_python/blob/master/covid_cases_dataset2.ipynb\" target=\"_parent\"><img src=\"https://colab.research.google.com/assets/colab-badge.svg\" alt=\"Open In Colab\"/></a>"
      ]
    },
    {
      "cell_type": "code",
      "metadata": {
        "id": "HRso9O3y8Wd6",
        "colab_type": "code",
        "colab": {
          "base_uri": "https://localhost:8080/",
          "height": 221
        },
        "outputId": "8d4c0e8a-2a9b-47f4-a7b7-fa8120100cdd"
      },
      "source": [
        "#Importing libraries and checking file structure/data types\n",
        "import pandas as pd\n",
        "covid_cases = pd.read_csv('https://raw.githubusercontent.com/CSSEGISandData/COVID-19/master/csse_covid_19_data/csse_covid_19_time_series/time_series_covid19_confirmed_global.csv')\n",
        "covid_cases.head()\n",
        "covid_cases.dtypes"
      ],
      "execution_count": 127,
      "outputs": [
        {
          "output_type": "execute_result",
          "data": {
            "text/plain": [
              "Province/State     object\n",
              "Country/Region     object\n",
              "Lat               float64\n",
              "Long              float64\n",
              "1/22/20             int64\n",
              "                   ...   \n",
              "9/12/20             int64\n",
              "9/13/20             int64\n",
              "9/14/20             int64\n",
              "9/15/20             int64\n",
              "9/16/20             int64\n",
              "Length: 243, dtype: object"
            ]
          },
          "metadata": {
            "tags": []
          },
          "execution_count": 127
        }
      ]
    },
    {
      "cell_type": "code",
      "metadata": {
        "id": "N3VSezPN8r7l",
        "colab_type": "code",
        "colab": {
          "base_uri": "https://localhost:8080/",
          "height": 359
        },
        "outputId": "ba88e7e2-f1a7-476f-ef40-a4803816e11d"
      },
      "source": [
        "#Creating countries dataset\n",
        "countries_df = {'Country':['Brazil','Mexico','Colombia','Peru','Argentina','Paraguay','Uruguay','Bolivia','Chile','Puerto Rico','Trinidad and Tobago',\n",
        "'Guatemala','El Salvador','Honduras','Nicaragua','Panama','Venezuela','Cuba','Ecuador','Costa Rica','Suriname','Guyana',\n",
        "'French Guiana','Dominican Republic','Haiti','Jamaica','Belize','Anguilla','Antigua and Barbuda','Aruba','Bahamas','Barbados',\n",
        "'Bermuda','Bonaire, Sint Eustatius and Saba','British Virgin Islands','Cayman Islands','Curacao','Dominica','Falkland Islands (Islas Malvinas)',\n",
        "'Grenada','Guadeloupe','Martinique','Montserrat','Netherlands Antilles','Saint Barthelemy','Saint Kitts and Nevis','Saint Lucia','Saint Martin (French part)',\n",
        "'Saint Vincent and the Grenadines','Saint Maarten (Dutch part)','Turks and Caicos Islands','Virgin Islands'],\n",
        "\n",
        "'Sub':['SEDA','SEM','SAMCOL','SEPR','SEASA','SEASA','SEASA','SECH','SECH','SELA','SELA','SELA','SELA','SELA','SELA','SELA','SELA','SELA','SELA','SELA','SELA','SELA',\n",
        "'SELA','SELA','SELA','SELA','SELA','SELA','SELA','SELA','SELA','SELA','SELA','SELA','SELA','SELA','SELA','SELA','SELA','SELA','SELA','SELA','SELA','SELA','SELA',\n",
        "'SELA','SELA','SELA','SELA','SELA','SELA','SELA'],\n",
        "\n",
        "'Branch':['Brazil','Mexico','Colombia','Peru','Argentina','Paraguay','Uruguay','Bolivia','Chile','Miami','Miami','Guatemala','Guatemala','Guatemala','Guatemala','Panama',\n",
        "'Panama','Panama','Panama','Panama','Panama','Panama','Panama','Dominican Republic','Dominican Republic','Dominican Republic','Dominican Republic','Dominican Republic',\n",
        "'Dominican Republic','Dominican Republic','Dominican Republic','Dominican Republic','Dominican Republic','Dominican Republic','Dominican Republic','Dominican Republic',\n",
        "'Dominican Republic','Dominican Republic','Dominican Republic','Dominican Republic','Dominican Republic','Dominican Republic','Dominican Republic','Dominican Republic',\n",
        "'Dominican Republic','Dominican Republic','Dominican Republic','Dominican Republic','Dominican Republic','Dominican Republic','Dominican Republic','Dominican Republic']\n",
        "}\n",
        "\n",
        "countries = pd.DataFrame(countries_df, columns = ['Country', 'Sub','Branch','Region'])\n",
        "\n",
        "countries['Region'] = 'LATAM'\n",
        "\n",
        "countries.head(10)"
      ],
      "execution_count": 128,
      "outputs": [
        {
          "output_type": "execute_result",
          "data": {
            "text/html": [
              "<div>\n",
              "<style scoped>\n",
              "    .dataframe tbody tr th:only-of-type {\n",
              "        vertical-align: middle;\n",
              "    }\n",
              "\n",
              "    .dataframe tbody tr th {\n",
              "        vertical-align: top;\n",
              "    }\n",
              "\n",
              "    .dataframe thead th {\n",
              "        text-align: right;\n",
              "    }\n",
              "</style>\n",
              "<table border=\"1\" class=\"dataframe\">\n",
              "  <thead>\n",
              "    <tr style=\"text-align: right;\">\n",
              "      <th></th>\n",
              "      <th>Country</th>\n",
              "      <th>Sub</th>\n",
              "      <th>Branch</th>\n",
              "      <th>Region</th>\n",
              "    </tr>\n",
              "  </thead>\n",
              "  <tbody>\n",
              "    <tr>\n",
              "      <th>0</th>\n",
              "      <td>Brazil</td>\n",
              "      <td>SEDA</td>\n",
              "      <td>Brazil</td>\n",
              "      <td>LATAM</td>\n",
              "    </tr>\n",
              "    <tr>\n",
              "      <th>1</th>\n",
              "      <td>Mexico</td>\n",
              "      <td>SEM</td>\n",
              "      <td>Mexico</td>\n",
              "      <td>LATAM</td>\n",
              "    </tr>\n",
              "    <tr>\n",
              "      <th>2</th>\n",
              "      <td>Colombia</td>\n",
              "      <td>SAMCOL</td>\n",
              "      <td>Colombia</td>\n",
              "      <td>LATAM</td>\n",
              "    </tr>\n",
              "    <tr>\n",
              "      <th>3</th>\n",
              "      <td>Peru</td>\n",
              "      <td>SEPR</td>\n",
              "      <td>Peru</td>\n",
              "      <td>LATAM</td>\n",
              "    </tr>\n",
              "    <tr>\n",
              "      <th>4</th>\n",
              "      <td>Argentina</td>\n",
              "      <td>SEASA</td>\n",
              "      <td>Argentina</td>\n",
              "      <td>LATAM</td>\n",
              "    </tr>\n",
              "    <tr>\n",
              "      <th>5</th>\n",
              "      <td>Paraguay</td>\n",
              "      <td>SEASA</td>\n",
              "      <td>Paraguay</td>\n",
              "      <td>LATAM</td>\n",
              "    </tr>\n",
              "    <tr>\n",
              "      <th>6</th>\n",
              "      <td>Uruguay</td>\n",
              "      <td>SEASA</td>\n",
              "      <td>Uruguay</td>\n",
              "      <td>LATAM</td>\n",
              "    </tr>\n",
              "    <tr>\n",
              "      <th>7</th>\n",
              "      <td>Bolivia</td>\n",
              "      <td>SECH</td>\n",
              "      <td>Bolivia</td>\n",
              "      <td>LATAM</td>\n",
              "    </tr>\n",
              "    <tr>\n",
              "      <th>8</th>\n",
              "      <td>Chile</td>\n",
              "      <td>SECH</td>\n",
              "      <td>Chile</td>\n",
              "      <td>LATAM</td>\n",
              "    </tr>\n",
              "    <tr>\n",
              "      <th>9</th>\n",
              "      <td>Puerto Rico</td>\n",
              "      <td>SELA</td>\n",
              "      <td>Miami</td>\n",
              "      <td>LATAM</td>\n",
              "    </tr>\n",
              "  </tbody>\n",
              "</table>\n",
              "</div>"
            ],
            "text/plain": [
              "       Country     Sub     Branch Region\n",
              "0       Brazil    SEDA     Brazil  LATAM\n",
              "1       Mexico     SEM     Mexico  LATAM\n",
              "2     Colombia  SAMCOL   Colombia  LATAM\n",
              "3         Peru    SEPR       Peru  LATAM\n",
              "4    Argentina   SEASA  Argentina  LATAM\n",
              "5     Paraguay   SEASA   Paraguay  LATAM\n",
              "6      Uruguay   SEASA    Uruguay  LATAM\n",
              "7      Bolivia    SECH    Bolivia  LATAM\n",
              "8        Chile    SECH      Chile  LATAM\n",
              "9  Puerto Rico    SELA      Miami  LATAM"
            ]
          },
          "metadata": {
            "tags": []
          },
          "execution_count": 128
        }
      ]
    },
    {
      "cell_type": "code",
      "metadata": {
        "id": "xu2M_CxX9FF0",
        "colab_type": "code",
        "colab": {
          "base_uri": "https://localhost:8080/",
          "height": 390
        },
        "outputId": "42522d8e-27be-4b15-9252-ac86a0f007b0"
      },
      "source": [
        "#Transforming data\n",
        "covid_cases['Country/Region'].replace('\"','')\n",
        "covid_cases.loc[covid_cases['Country/Region']=='Korea, South','Country/Region']  = 'South Korea'\n",
        "\n",
        "#Removing unutilized columns\n",
        "covid_cases.pop('Lat')\n",
        "covid_cases.pop('Long')\n",
        "covid_cases.pop('Province/State')\n",
        "\n",
        "#Transposing matrix\n",
        "df1 = pd.melt(covid_cases,id_vars='Country/Region',value_name='cases')\n",
        "\n",
        "#Renaming dataset columns\n",
        "df1.rename(columns={\"variable\":\"date\",\"Country/Region\":\"Country\"},inplace=True)\n",
        "\n",
        "#Converting column to date type\n",
        "df1['date'] = pd.to_datetime(df1['date'])\n",
        "\n",
        "#Joining data\n",
        "covid = df1.merge(countries, on='Country')\n",
        "\n",
        "#Grouping/Aggregating Rows\n",
        "covid = covid.groupby(by=['Region','Sub','Branch','Country','date',]).sum()\n",
        "\n",
        "#Filtering values equals to zero\n",
        "covid = covid.loc[covid['cases']!=0]\n",
        "\n",
        "covid.head(10)"
      ],
      "execution_count": 129,
      "outputs": [
        {
          "output_type": "execute_result",
          "data": {
            "text/html": [
              "<div>\n",
              "<style scoped>\n",
              "    .dataframe tbody tr th:only-of-type {\n",
              "        vertical-align: middle;\n",
              "    }\n",
              "\n",
              "    .dataframe tbody tr th {\n",
              "        vertical-align: top;\n",
              "    }\n",
              "\n",
              "    .dataframe thead th {\n",
              "        text-align: right;\n",
              "    }\n",
              "</style>\n",
              "<table border=\"1\" class=\"dataframe\">\n",
              "  <thead>\n",
              "    <tr style=\"text-align: right;\">\n",
              "      <th></th>\n",
              "      <th></th>\n",
              "      <th></th>\n",
              "      <th></th>\n",
              "      <th></th>\n",
              "      <th>cases</th>\n",
              "    </tr>\n",
              "    <tr>\n",
              "      <th>Region</th>\n",
              "      <th>Sub</th>\n",
              "      <th>Branch</th>\n",
              "      <th>Country</th>\n",
              "      <th>date</th>\n",
              "      <th></th>\n",
              "    </tr>\n",
              "  </thead>\n",
              "  <tbody>\n",
              "    <tr>\n",
              "      <th rowspan=\"10\" valign=\"top\">LATAM</th>\n",
              "      <th rowspan=\"10\" valign=\"top\">SAMCOL</th>\n",
              "      <th rowspan=\"10\" valign=\"top\">Colombia</th>\n",
              "      <th rowspan=\"10\" valign=\"top\">Colombia</th>\n",
              "      <th>2020-03-06</th>\n",
              "      <td>1</td>\n",
              "    </tr>\n",
              "    <tr>\n",
              "      <th>2020-03-07</th>\n",
              "      <td>1</td>\n",
              "    </tr>\n",
              "    <tr>\n",
              "      <th>2020-03-08</th>\n",
              "      <td>1</td>\n",
              "    </tr>\n",
              "    <tr>\n",
              "      <th>2020-03-09</th>\n",
              "      <td>1</td>\n",
              "    </tr>\n",
              "    <tr>\n",
              "      <th>2020-03-10</th>\n",
              "      <td>3</td>\n",
              "    </tr>\n",
              "    <tr>\n",
              "      <th>2020-03-11</th>\n",
              "      <td>9</td>\n",
              "    </tr>\n",
              "    <tr>\n",
              "      <th>2020-03-12</th>\n",
              "      <td>9</td>\n",
              "    </tr>\n",
              "    <tr>\n",
              "      <th>2020-03-13</th>\n",
              "      <td>13</td>\n",
              "    </tr>\n",
              "    <tr>\n",
              "      <th>2020-03-14</th>\n",
              "      <td>22</td>\n",
              "    </tr>\n",
              "    <tr>\n",
              "      <th>2020-03-15</th>\n",
              "      <td>34</td>\n",
              "    </tr>\n",
              "  </tbody>\n",
              "</table>\n",
              "</div>"
            ],
            "text/plain": [
              "                                            cases\n",
              "Region Sub    Branch   Country  date             \n",
              "LATAM  SAMCOL Colombia Colombia 2020-03-06      1\n",
              "                                2020-03-07      1\n",
              "                                2020-03-08      1\n",
              "                                2020-03-09      1\n",
              "                                2020-03-10      3\n",
              "                                2020-03-11      9\n",
              "                                2020-03-12      9\n",
              "                                2020-03-13     13\n",
              "                                2020-03-14     22\n",
              "                                2020-03-15     34"
            ]
          },
          "metadata": {
            "tags": []
          },
          "execution_count": 129
        }
      ]
    },
    {
      "cell_type": "code",
      "metadata": {
        "id": "BHLRKRcUjAFi",
        "colab_type": "code",
        "colab": {}
      },
      "source": [
        "#Downloading datasets\n",
        "covid.to_csv('covid_cases.csv')\n",
        "countries.to_csv('countries.csv')"
      ],
      "execution_count": 130,
      "outputs": []
    }
  ]
}