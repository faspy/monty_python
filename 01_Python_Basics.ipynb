{
  "nbformat": 4,
  "nbformat_minor": 0,
  "metadata": {
    "colab": {
      "name": "Python Basics.ipynb",
      "provenance": [],
      "authorship_tag": "ABX9TyNb9+5io11ho/s0S2p3689R",
      "include_colab_link": true
    },
    "kernelspec": {
      "name": "python3",
      "display_name": "Python 3"
    }
  },
  "cells": [
    {
      "cell_type": "markdown",
      "metadata": {
        "id": "view-in-github",
        "colab_type": "text"
      },
      "source": [
        "<a href=\"https://colab.research.google.com/github/faspy/monty_python/blob/master/01_Python_Basics.ipynb\" target=\"_parent\"><img src=\"https://colab.research.google.com/assets/colab-badge.svg\" alt=\"Open In Colab\"/></a>"
      ]
    },
    {
      "cell_type": "markdown",
      "metadata": {
        "id": "ZhD2zeeLPa_W",
        "colab_type": "text"
      },
      "source": [
        "**Arithmetic Operators**"
      ]
    },
    {
      "cell_type": "code",
      "metadata": {
        "id": "mZmKsBacN9NK",
        "colab_type": "code",
        "colab": {
          "base_uri": "https://localhost:8080/",
          "height": 122
        },
        "outputId": "1eac1fc6-2383-48d5-e7fa-9e706fa532bf"
      },
      "source": [
        "x = 15\n",
        "y = 4\n",
        "\n",
        "# Output: x + y = 19\n",
        "print('x + y =',x+y)\n",
        "\n",
        "# Output: x - y = 11\n",
        "print('x - y =',x-y)\n",
        "\n",
        "# Output: x * y = 60\n",
        "print('x * y =',x*y)\n",
        "\n",
        "# Output: x / y = 3.75\n",
        "print('x / y =',x/y)\n",
        "\n",
        "# Output: x // y = 3\n",
        "print('x // y =',x//y)\n",
        "\n",
        "# Output: x ** y = 50625\n",
        "print('x ** y =',x**y)"
      ],
      "execution_count": null,
      "outputs": [
        {
          "output_type": "stream",
          "text": [
            "x + y = 19\n",
            "x - y = 11\n",
            "x * y = 60\n",
            "x / y = 3.75\n",
            "x // y = 3\n",
            "x ** y = 50625\n"
          ],
          "name": "stdout"
        }
      ]
    },
    {
      "cell_type": "markdown",
      "metadata": {
        "id": "RF2zJvPjPFVf",
        "colab_type": "text"
      },
      "source": [
        "**Comparison Operators**"
      ]
    },
    {
      "cell_type": "code",
      "metadata": {
        "id": "iu2JmF2gOsTn",
        "colab_type": "code",
        "colab": {
          "base_uri": "https://localhost:8080/",
          "height": 122
        },
        "outputId": "32f5d9e8-5a14-4e6e-c047-8e878216b368"
      },
      "source": [
        "x = 10\n",
        "y = 12\n",
        "\n",
        "# Output: x > y is False\n",
        "print('x > y is',x>y)\n",
        "\n",
        "# Output: x < y is True\n",
        "print('x < y is',x<y)\n",
        "\n",
        "# Output: x == y is False\n",
        "print('x == y is',x==y)\n",
        "\n",
        "# Output: x != y is True\n",
        "print('x != y is',x!=y)\n",
        "\n",
        "# Output: x >= y is False\n",
        "print('x >= y is',x>=y)\n",
        "\n",
        "# Output: x <= y is True\n",
        "print('x <= y is',x<=y)"
      ],
      "execution_count": null,
      "outputs": [
        {
          "output_type": "stream",
          "text": [
            "x > y is False\n",
            "x < y is True\n",
            "x == y is False\n",
            "x != y is True\n",
            "x >= y is False\n",
            "x <= y is True\n"
          ],
          "name": "stdout"
        }
      ]
    },
    {
      "cell_type": "markdown",
      "metadata": {
        "id": "5Ye_PMq8POaQ",
        "colab_type": "text"
      },
      "source": [
        "**Logical Operators**"
      ]
    },
    {
      "cell_type": "code",
      "metadata": {
        "id": "3tT9_d4eOnni",
        "colab_type": "code",
        "colab": {
          "base_uri": "https://localhost:8080/",
          "height": 70
        },
        "outputId": "b4c40e1b-14c8-4d51-842b-23996f2cdf35"
      },
      "source": [
        "x = True\n",
        "y = False\n",
        "\n",
        "print('x and y is',x and y)\n",
        "\n",
        "print('x or y is',x or y)\n",
        "\n",
        "print('not x is',not x)"
      ],
      "execution_count": null,
      "outputs": [
        {
          "output_type": "stream",
          "text": [
            "x and y is False\n",
            "x or y is True\n",
            "not x is False\n"
          ],
          "name": "stdout"
        }
      ]
    },
    {
      "cell_type": "code",
      "metadata": {
        "id": "MF8n_M4dQNMP",
        "colab_type": "code",
        "colab": {}
      },
      "source": [
        ""
      ],
      "execution_count": null,
      "outputs": []
    },
    {
      "cell_type": "markdown",
      "metadata": {
        "id": "5-FQm1fpQNmv",
        "colab_type": "text"
      },
      "source": [
        "**Bitwise Operators**\n",
        "\n",
        "Operator\tMeaning\tExample\n",
        "\n",
        "#####&\tBitwise AND\tx & y = 0 (0000 0000)\n",
        "#####|\tBitwise OR\tx | y = 14 (0000 1110)\n",
        "#####~\tBitwise NOT\t~x = -11 (1111 0101)\n",
        "#####^\tBitwise XOR\tx ^ y = 14 (0000 1110)\n",
        "#####>>\tBitwise right shift\tx >> 2 = 2 (0000 0010)\n",
        "#####<<\tBitwise left shift\tx << 2 = 40 (0010 1000)"
      ]
    },
    {
      "cell_type": "markdown",
      "metadata": {
        "id": "gAXNLo3WQ4QY",
        "colab_type": "text"
      },
      "source": [
        "**Assigment Operators**\n",
        "\n",
        "Operator\t    Example\tEquivalent to\n",
        "#####=\tx     = 5\t    x = 5\n",
        "#####+=\tx     += 5\t  x = x + 5\n",
        "#####-=\tx     -= 5\t  x = x - 5\n",
        "#####*=\tx     *= 5\t  x = x * 5\n",
        "#####/=\tx     /= 5\t  x = x / 5\n",
        "#####%=\tx     %= 5\t  x = x % 5\n",
        "#####//=x    //= 5\t  x = x // 5\n",
        "#####**=x    **= 5\t  x = x ** 5\n",
        "#####&=x     &= 5\t    x = x & 5\n",
        "#####|=\tx    |= 5\t    x = x | 5\n",
        "#####^=\tx    ^= 5\t    x = x ^ 5\n",
        "#####>>=x    >>= 5\t  x = x >> 5\n",
        "#####<<=x    <<= 5\t  x = x << 5\n"
      ]
    },
    {
      "cell_type": "code",
      "metadata": {
        "id": "qm5qt6GtSSYZ",
        "colab_type": "code",
        "colab": {}
      },
      "source": [
        ""
      ],
      "execution_count": null,
      "outputs": []
    },
    {
      "cell_type": "markdown",
      "metadata": {
        "id": "WFCzJj4rSS87",
        "colab_type": "text"
      },
      "source": [
        "**Special Operators**"
      ]
    },
    {
      "cell_type": "code",
      "metadata": {
        "id": "RyRuLXbISYts",
        "colab_type": "code",
        "colab": {
          "base_uri": "https://localhost:8080/",
          "height": 70
        },
        "outputId": "c7be8041-91ea-4428-b208-f96ca5b479c4"
      },
      "source": [
        "x1 = 5\n",
        "y1 = 5\n",
        "x2 = 'Hello'\n",
        "y2 = 'Hello'\n",
        "x3 = [1,2,3]\n",
        "y3 = [1,2,3]\n",
        "\n",
        "# Output: False\n",
        "print(x1 is not y1)\n",
        "\n",
        "# Output: True\n",
        "print(x2 is y2)\n",
        "\n",
        "# Output: False\n",
        "print(x3 is y3)"
      ],
      "execution_count": null,
      "outputs": [
        {
          "output_type": "stream",
          "text": [
            "False\n",
            "True\n",
            "False\n"
          ],
          "name": "stdout"
        }
      ]
    },
    {
      "cell_type": "code",
      "metadata": {
        "id": "tEwUBr-sSevV",
        "colab_type": "code",
        "colab": {}
      },
      "source": [
        ""
      ],
      "execution_count": null,
      "outputs": []
    },
    {
      "cell_type": "markdown",
      "metadata": {
        "id": "0yx9Fb6hSfWe",
        "colab_type": "text"
      },
      "source": [
        "**Membership Operators**\n",
        "\n",
        "They are used to test whether a value or variable is found in a sequence (string, list, tuple, set and dictionary)."
      ]
    },
    {
      "cell_type": "code",
      "metadata": {
        "id": "kUgP7iFlSisb",
        "colab_type": "code",
        "colab": {
          "base_uri": "https://localhost:8080/",
          "height": 87
        },
        "outputId": "4bc80a5c-ceff-4747-9d21-2e01b2202200"
      },
      "source": [
        "x = 'Hello world'\n",
        "y = {1:'a',2:'b'}\n",
        "\n",
        "# Output: True\n",
        "print('H' in x)\n",
        "\n",
        "# Output: True\n",
        "print('hello' not in x)\n",
        "\n",
        "# Output: True\n",
        "print(1 in y)\n",
        "\n",
        "# Output: False\n",
        "print('a' in y)"
      ],
      "execution_count": null,
      "outputs": [
        {
          "output_type": "stream",
          "text": [
            "True\n",
            "True\n",
            "True\n",
            "False\n"
          ],
          "name": "stdout"
        }
      ]
    },
    {
      "cell_type": "markdown",
      "metadata": {
        "id": "Z_2lzR-7Mhhs",
        "colab_type": "text"
      },
      "source": [
        "**Variables assignment**"
      ]
    },
    {
      "cell_type": "code",
      "metadata": {
        "id": "Sno_DWk6C6jb",
        "colab_type": "code",
        "colab": {
          "base_uri": "https://localhost:8080/",
          "height": 34
        },
        "outputId": "c5b24305-9c33-4253-c6e8-d1791cd953e6"
      },
      "source": [
        "var = 'felipe'\n",
        "var = 'santos'\n",
        "\n",
        "print('texto que estou escrevendo',var,'sdsadas',var)"
      ],
      "execution_count": null,
      "outputs": [
        {
          "output_type": "stream",
          "text": [
            "texto que estou escrevendo santos sdsadas santos\n"
          ],
          "name": "stdout"
        }
      ]
    },
    {
      "cell_type": "code",
      "metadata": {
        "id": "O-r7Okr4FJL4",
        "colab_type": "code",
        "colab": {
          "base_uri": "https://localhost:8080/",
          "height": 34
        },
        "outputId": "ae2d1e26-dd54-46b4-82aa-679b10ace657"
      },
      "source": [
        "len(var)"
      ],
      "execution_count": null,
      "outputs": [
        {
          "output_type": "execute_result",
          "data": {
            "text/plain": [
              "6"
            ]
          },
          "metadata": {
            "tags": []
          },
          "execution_count": 4
        }
      ]
    },
    {
      "cell_type": "markdown",
      "metadata": {
        "id": "w6HKAsgMKtWM",
        "colab_type": "text"
      },
      "source": [
        "**Manipulando strings e listas**"
      ]
    },
    {
      "cell_type": "code",
      "metadata": {
        "id": "TVSC0aAuKSoH",
        "colab_type": "code",
        "colab": {
          "base_uri": "https://localhost:8080/",
          "height": 34
        },
        "outputId": "e9d42ba3-5f81-4312-817a-7b61ca6d3db8"
      },
      "source": [
        "str1 = var[0:]\n",
        "str2 = var[1:4]\n",
        "str3 = var[:2]\n",
        "print(str1,str2,str3)"
      ],
      "execution_count": null,
      "outputs": [
        {
          "output_type": "stream",
          "text": [
            "santos ant sa\n"
          ],
          "name": "stdout"
        }
      ]
    },
    {
      "cell_type": "code",
      "metadata": {
        "id": "aZc8K_UiLF1t",
        "colab_type": "code",
        "colab": {
          "base_uri": "https://localhost:8080/",
          "height": 34
        },
        "outputId": "31fc9b16-1006-4e8e-c5fa-38b35dc471e8"
      },
      "source": [
        "lista  = ['a','b','c']\n",
        "lista\n",
        "lista[0]\n",
        "nested_list = ['a','b',['c','d',['e','f']]]\n",
        "\n",
        "nl1 = nested_list[2][2][1]\n",
        "nl2 = nested_list[0]\n",
        "\n",
        "print(nl1,nl2)"
      ],
      "execution_count": null,
      "outputs": [
        {
          "output_type": "stream",
          "text": [
            "f a\n"
          ],
          "name": "stdout"
        }
      ]
    },
    {
      "cell_type": "markdown",
      "metadata": {
        "id": "Y-YnpppwMxEF",
        "colab_type": "text"
      },
      "source": [
        "**Dictionaries**\n",
        "\n",
        "Key value pairs. Different from lists and tuples it has a key."
      ]
    },
    {
      "cell_type": "code",
      "metadata": {
        "id": "VkpyUlRaLWUq",
        "colab_type": "code",
        "colab": {}
      },
      "source": [
        "d = {'key1':'value','key2':123,'key':'CEP'}"
      ],
      "execution_count": null,
      "outputs": []
    },
    {
      "cell_type": "code",
      "metadata": {
        "id": "XV209PX7M4KM",
        "colab_type": "code",
        "colab": {
          "base_uri": "https://localhost:8080/",
          "height": 34
        },
        "outputId": "48b5d9da-8cb1-4d78-d24c-2288ba8e8c78"
      },
      "source": [
        "d['key1']"
      ],
      "execution_count": null,
      "outputs": [
        {
          "output_type": "execute_result",
          "data": {
            "text/plain": [
              "'value'"
            ]
          },
          "metadata": {
            "tags": []
          },
          "execution_count": 28
        }
      ]
    },
    {
      "cell_type": "code",
      "metadata": {
        "id": "1lNdw8gYNILb",
        "colab_type": "code",
        "colab": {}
      },
      "source": [
        "d = {'k1':[1,2,3]}"
      ],
      "execution_count": null,
      "outputs": []
    },
    {
      "cell_type": "code",
      "metadata": {
        "id": "rnt0yMhZNREf",
        "colab_type": "code",
        "colab": {
          "base_uri": "https://localhost:8080/",
          "height": 34
        },
        "outputId": "dd2a5e4c-022d-4b8d-cafd-f869afb61260"
      },
      "source": [
        "my_list = d['k1']\n",
        "my_list[2]"
      ],
      "execution_count": null,
      "outputs": [
        {
          "output_type": "execute_result",
          "data": {
            "text/plain": [
              "3"
            ]
          },
          "metadata": {
            "tags": []
          },
          "execution_count": 34
        }
      ]
    },
    {
      "cell_type": "code",
      "metadata": {
        "id": "QyD1d2-hNdDq",
        "colab_type": "code",
        "colab": {
          "base_uri": "https://localhost:8080/",
          "height": 34
        },
        "outputId": "b6987e2a-c376-463d-fa8f-3197606d6a8c"
      },
      "source": [
        "d = {'Nomes':{'Nome':'Felipe','Parentesco':['Paulo','Cristina','Paula']},'Endereco':{'CEP':12324,'cidade':'Santos'}}\n",
        "pai = d['Nomes']['Parentesco'][0]\n",
        "mae = d['Nomes']['Parentesco'][1]\n",
        "irma = d['Nomes']['Parentesco'][2]\n",
        "\n",
        "print(pai,mae,irma)\n"
      ],
      "execution_count": null,
      "outputs": [
        {
          "output_type": "stream",
          "text": [
            "Paulo Cristina Paula\n"
          ],
          "name": "stdout"
        }
      ]
    },
    {
      "cell_type": "markdown",
      "metadata": {
        "id": "kJgdDt4pK3tO",
        "colab_type": "text"
      },
      "source": [
        "**Tuples vs List**\n",
        "\n",
        "`A tuple cannot be changed by the user, different from a list` "
      ]
    },
    {
      "cell_type": "code",
      "metadata": {
        "id": "JytGHHg9NSDN",
        "colab_type": "code",
        "colab": {
          "base_uri": "https://localhost:8080/",
          "height": 34
        },
        "outputId": "6ead25f5-45bb-46e7-d2b8-eeb9430e0ccc"
      },
      "source": [
        "my_list = [1,2,3]\n",
        "my_list[0] = 'NEW'\n",
        "my_list"
      ],
      "execution_count": null,
      "outputs": [
        {
          "output_type": "execute_result",
          "data": {
            "text/plain": [
              "['NEW', 2, 3]"
            ]
          },
          "metadata": {
            "tags": []
          },
          "execution_count": 27
        }
      ]
    },
    {
      "cell_type": "code",
      "metadata": {
        "id": "PYEtRS5FL7XI",
        "colab_type": "code",
        "colab": {
          "base_uri": "https://localhost:8080/",
          "height": 202
        },
        "outputId": "a72fa664-c077-4d26-f69c-7edcec358e9b"
      },
      "source": [
        "#o erro é esperado, pois estamos tratando de uma tupla (valores fixos) e não lista (valores mutáveis)\n",
        "my_tuple = (1,2,3)\n",
        "my_tuple[0] = 'NEW'\n",
        "my_tuple"
      ],
      "execution_count": 1,
      "outputs": [
        {
          "output_type": "error",
          "ename": "TypeError",
          "evalue": "ignored",
          "traceback": [
            "\u001b[0;31m---------------------------------------------------------------------------\u001b[0m",
            "\u001b[0;31mTypeError\u001b[0m                                 Traceback (most recent call last)",
            "\u001b[0;32m<ipython-input-1-75583d0abf2d>\u001b[0m in \u001b[0;36m<module>\u001b[0;34m()\u001b[0m\n\u001b[1;32m      1\u001b[0m \u001b[0mmy_tuple\u001b[0m \u001b[0;34m=\u001b[0m \u001b[0;34m(\u001b[0m\u001b[0;36m1\u001b[0m\u001b[0;34m,\u001b[0m\u001b[0;36m2\u001b[0m\u001b[0;34m,\u001b[0m\u001b[0;36m3\u001b[0m\u001b[0;34m)\u001b[0m\u001b[0;34m\u001b[0m\u001b[0;34m\u001b[0m\u001b[0m\n\u001b[0;32m----> 2\u001b[0;31m \u001b[0mmy_tuple\u001b[0m\u001b[0;34m[\u001b[0m\u001b[0;36m0\u001b[0m\u001b[0;34m]\u001b[0m \u001b[0;34m=\u001b[0m \u001b[0;34m'NEW'\u001b[0m\u001b[0;34m\u001b[0m\u001b[0;34m\u001b[0m\u001b[0m\n\u001b[0m\u001b[1;32m      3\u001b[0m \u001b[0mmy_tuple\u001b[0m\u001b[0;34m\u001b[0m\u001b[0;34m\u001b[0m\u001b[0m\n",
            "\u001b[0;31mTypeError\u001b[0m: 'tuple' object does not support item assignment"
          ]
        }
      ]
    },
    {
      "cell_type": "markdown",
      "metadata": {
        "id": "JesuKT-dMpjm",
        "colab_type": "text"
      },
      "source": [
        "**Sets: Collection of unique elements**"
      ]
    },
    {
      "cell_type": "code",
      "metadata": {
        "id": "rT-elI8PMvCt",
        "colab_type": "code",
        "colab": {}
      },
      "source": [
        "s = {1,2,3}"
      ],
      "execution_count": null,
      "outputs": []
    },
    {
      "cell_type": "code",
      "metadata": {
        "id": "Cs5kzlg7NkiK",
        "colab_type": "code",
        "colab": {
          "base_uri": "https://localhost:8080/",
          "height": 34
        },
        "outputId": "3c3fb0f5-a582-4bf1-f550-b815d0ee4fc0"
      },
      "source": [
        "s.add(5)\n",
        "s"
      ],
      "execution_count": null,
      "outputs": [
        {
          "output_type": "execute_result",
          "data": {
            "text/plain": [
              "{1, 2, 3, 5}"
            ]
          },
          "metadata": {
            "tags": []
          },
          "execution_count": 42
        }
      ]
    },
    {
      "cell_type": "markdown",
      "metadata": {
        "id": "ZGO_9vHgNM4B",
        "colab_type": "text"
      },
      "source": [
        "You can return unique elements in a function by using **set( )** function"
      ]
    },
    {
      "cell_type": "code",
      "metadata": {
        "id": "Ptz9ONP7MxG3",
        "colab_type": "code",
        "colab": {
          "base_uri": "https://localhost:8080/",
          "height": 34
        },
        "outputId": "84c26be5-70ea-4eed-925e-f6332833f74d"
      },
      "source": [
        "set([1,2,2,2,2,3,3,3,3])"
      ],
      "execution_count": null,
      "outputs": [
        {
          "output_type": "execute_result",
          "data": {
            "text/plain": [
              "{1, 2, 3}"
            ]
          },
          "metadata": {
            "tags": []
          },
          "execution_count": 67
        }
      ]
    },
    {
      "cell_type": "markdown",
      "metadata": {
        "id": "HJXggJFbTYFT",
        "colab_type": "text"
      },
      "source": [
        "**Conditions**"
      ]
    },
    {
      "cell_type": "markdown",
      "metadata": {
        "id": "-Hu-Uas9Ud5S",
        "colab_type": "text"
      },
      "source": [
        "*IF, ELIF and ELSE*"
      ]
    },
    {
      "cell_type": "code",
      "metadata": {
        "id": "iEx8B8bNTc0H",
        "colab_type": "code",
        "colab": {
          "base_uri": "https://localhost:8080/",
          "height": 34
        },
        "outputId": "50a52905-cf9f-4995-96fb-fd79da711e6e"
      },
      "source": [
        "x=1\n",
        "\n",
        "if x<2:\n",
        "  print('lower than 2!')\n",
        "elif x>2:\n",
        "  print('greater than 2!')\n",
        "else:\n",
        "  print('equal')"
      ],
      "execution_count": null,
      "outputs": [
        {
          "output_type": "stream",
          "text": [
            "lower than 2!\n"
          ],
          "name": "stdout"
        }
      ]
    },
    {
      "cell_type": "markdown",
      "metadata": {
        "id": "k2OLuAeyUi0i",
        "colab_type": "text"
      },
      "source": [
        "*FOR LOOPS*"
      ]
    },
    {
      "cell_type": "code",
      "metadata": {
        "id": "TTl6gM8ZThgZ",
        "colab_type": "code",
        "colab": {
          "base_uri": "https://localhost:8080/",
          "height": 298
        },
        "outputId": "f4c597ce-5626-48a6-a6f7-af1df7d985aa"
      },
      "source": [
        "seq =[1,2,3,4]\n",
        "\n",
        "for item in seq:\n",
        "  print(item)\n",
        "\n",
        "print('------------------------------')\n",
        "\n",
        "for x in range(0,5):\n",
        "  print(x)\n",
        "\n",
        "print('------------------------------')\n",
        "\n",
        "x=[]\n",
        "\n",
        "for num in range(0,5):\n",
        "  x.insert(num,2000+num)\n",
        "print('o número escolhido foi:',x[4])\n",
        "\n",
        "for num in range(0,5):\n",
        "  x.append(num)\n",
        "print('o número escolhido foi:',x[6])\n",
        "print(x)\n",
        "\n",
        "print('------------------------------')\n",
        "\n",
        "list(range(10))"
      ],
      "execution_count": null,
      "outputs": [
        {
          "output_type": "stream",
          "text": [
            "1\n",
            "2\n",
            "3\n",
            "4\n",
            "------------------------------\n",
            "0\n",
            "1\n",
            "2\n",
            "3\n",
            "4\n",
            "------------------------------\n",
            "o número escolhido foi: 2004\n",
            "o número escolhido foi: 1\n",
            "[2000, 2001, 2002, 2003, 2004, 0, 1, 2, 3, 4]\n",
            "------------------------------\n"
          ],
          "name": "stdout"
        },
        {
          "output_type": "execute_result",
          "data": {
            "text/plain": [
              "[0, 1, 2, 3, 4, 5, 6, 7, 8, 9]"
            ]
          },
          "metadata": {
            "tags": []
          },
          "execution_count": 114
        }
      ]
    },
    {
      "cell_type": "markdown",
      "metadata": {
        "id": "dO23ZLduVG5x",
        "colab_type": "text"
      },
      "source": [
        "*WHILE LOOPS*"
      ]
    },
    {
      "cell_type": "code",
      "metadata": {
        "id": "5AEagO2mVEfx",
        "colab_type": "code",
        "colab": {
          "base_uri": "https://localhost:8080/",
          "height": 105
        },
        "outputId": "7cf9c6fb-d8d0-47cd-c1d6-aed1a04f7e1a"
      },
      "source": [
        "i=1\n",
        "\n",
        "while i<=5:\n",
        "  print('i is: {}'.format(i))\n",
        "  i += 1"
      ],
      "execution_count": null,
      "outputs": [
        {
          "output_type": "stream",
          "text": [
            "i is: 1\n",
            "i is: 2\n",
            "i is: 3\n",
            "i is: 4\n",
            "i is: 5\n"
          ],
          "name": "stdout"
        }
      ]
    },
    {
      "cell_type": "markdown",
      "metadata": {
        "id": "arv3sPnQaTW0",
        "colab_type": "text"
      },
      "source": [
        "**LIST COMPREEHENSION**"
      ]
    },
    {
      "cell_type": "code",
      "metadata": {
        "id": "uxx7ZsyZaXa-",
        "colab_type": "code",
        "colab": {
          "base_uri": "https://localhost:8080/",
          "height": 34
        },
        "outputId": "f63b1a63-4851-4ad5-a1eb-4e38cec7ad6a"
      },
      "source": [
        "[num**2 for num in range(5)]"
      ],
      "execution_count": null,
      "outputs": [
        {
          "output_type": "execute_result",
          "data": {
            "text/plain": [
              "[0, 1, 4, 9, 16]"
            ]
          },
          "metadata": {
            "tags": []
          },
          "execution_count": 120
        }
      ]
    },
    {
      "cell_type": "markdown",
      "metadata": {
        "id": "l9LlpxPpKSIp",
        "colab_type": "text"
      },
      "source": [
        "**FUNCTIONS**"
      ]
    },
    {
      "cell_type": "code",
      "metadata": {
        "id": "AM5nC7lyKVrI",
        "colab_type": "code",
        "colab": {
          "base_uri": "https://localhost:8080/",
          "height": 51
        },
        "outputId": "65e8a78a-93db-46d2-c8d7-e657621a72c5"
      },
      "source": [
        "def my_func (name='Default Name'):\n",
        "  print('Hello '+ name)\n",
        "\n",
        "my_func()\n",
        "my_func('Felipe')"
      ],
      "execution_count": null,
      "outputs": [
        {
          "output_type": "stream",
          "text": [
            "Hello Default Name\n",
            "Hello Felipe\n"
          ],
          "name": "stdout"
        }
      ]
    },
    {
      "cell_type": "code",
      "metadata": {
        "id": "KYIqmxzcKqsM",
        "colab_type": "code",
        "colab": {
          "base_uri": "https://localhost:8080/",
          "height": 34
        },
        "outputId": "832eee77-8ac7-466b-ba06-0717ced43612"
      },
      "source": [
        "def square(num):\n",
        "  \"\"\"\n",
        "  THIS IS A DOCSTRING.\n",
        "  CAN GO MULTIPLE LINES.\n",
        "  THIS FUNCTION SQUARES A NUMBER.\n",
        "  \"\"\"\n",
        "  return num**2\n",
        "\n",
        "square(2)"
      ],
      "execution_count": null,
      "outputs": [
        {
          "output_type": "execute_result",
          "data": {
            "text/plain": [
              "4"
            ]
          },
          "metadata": {
            "tags": []
          },
          "execution_count": 2
        }
      ]
    },
    {
      "cell_type": "code",
      "metadata": {
        "id": "dxcKqZUedTFI",
        "colab_type": "code",
        "colab": {}
      },
      "source": [
        ""
      ],
      "execution_count": null,
      "outputs": []
    },
    {
      "cell_type": "markdown",
      "metadata": {
        "id": "7n6-sPzuJGYR",
        "colab_type": "text"
      },
      "source": [
        "**MAP FUNCTION**"
      ]
    },
    {
      "cell_type": "code",
      "metadata": {
        "id": "HhCeQY8rJLyu",
        "colab_type": "code",
        "colab": {}
      },
      "source": [
        "def times2(var):return var*2\n",
        "seq = [1,2,3,4,5]"
      ],
      "execution_count": null,
      "outputs": []
    },
    {
      "cell_type": "code",
      "metadata": {
        "id": "K88o8tSAJUW7",
        "colab_type": "code",
        "colab": {
          "base_uri": "https://localhost:8080/",
          "height": 34
        },
        "outputId": "bbc04029-0334-4677-ee9f-10f7517226bf"
      },
      "source": [
        "list(map(times2,seq))"
      ],
      "execution_count": null,
      "outputs": [
        {
          "output_type": "execute_result",
          "data": {
            "text/plain": [
              "[2, 4, 6, 8, 10]"
            ]
          },
          "metadata": {
            "tags": []
          },
          "execution_count": 7
        }
      ]
    },
    {
      "cell_type": "code",
      "metadata": {
        "id": "M1nZwGk7Jyjm",
        "colab_type": "code",
        "colab": {
          "base_uri": "https://localhost:8080/",
          "height": 34
        },
        "outputId": "5538cbb3-4a0b-48c5-be92-4aa0f35ac450"
      },
      "source": [
        "t = lambda var:var*2\n",
        "t(2)"
      ],
      "execution_count": null,
      "outputs": [
        {
          "output_type": "execute_result",
          "data": {
            "text/plain": [
              "4"
            ]
          },
          "metadata": {
            "tags": []
          },
          "execution_count": 10
        }
      ]
    },
    {
      "cell_type": "code",
      "metadata": {
        "id": "uR9aREWCKXFX",
        "colab_type": "code",
        "colab": {
          "base_uri": "https://localhost:8080/",
          "height": 34
        },
        "outputId": "bccb7a29-8485-48a1-ee6d-15948df34f56"
      },
      "source": [
        "list(map(lambda var:var*2,seq))"
      ],
      "execution_count": null,
      "outputs": [
        {
          "output_type": "execute_result",
          "data": {
            "text/plain": [
              "[2, 4, 6, 8, 10]"
            ]
          },
          "metadata": {
            "tags": []
          },
          "execution_count": 11
        }
      ]
    },
    {
      "cell_type": "code",
      "metadata": {
        "id": "qnFibFRYKY-J",
        "colab_type": "code",
        "colab": {
          "base_uri": "https://localhost:8080/",
          "height": 34
        },
        "outputId": "23ea0a44-0213-4e8f-e52f-97a6eba4d80c"
      },
      "source": [
        "list(filter(lambda num:num%2==0,seq))"
      ],
      "execution_count": null,
      "outputs": [
        {
          "output_type": "execute_result",
          "data": {
            "text/plain": [
              "[2, 4]"
            ]
          },
          "metadata": {
            "tags": []
          },
          "execution_count": 12
        }
      ]
    },
    {
      "cell_type": "markdown",
      "metadata": {
        "id": "3zjuPC7eMMCT",
        "colab_type": "text"
      },
      "source": [
        "**METHODS**"
      ]
    },
    {
      "cell_type": "code",
      "metadata": {
        "id": "xjnlFXcNMDno",
        "colab_type": "code",
        "colab": {}
      },
      "source": [
        "S = 'Hello my name is Felipe'"
      ],
      "execution_count": null,
      "outputs": []
    },
    {
      "cell_type": "code",
      "metadata": {
        "id": "cYV9r4VwMdMw",
        "colab_type": "code",
        "colab": {
          "base_uri": "https://localhost:8080/",
          "height": 35
        },
        "outputId": "71cf0df7-046a-4134-abb8-b9365eb05f86"
      },
      "source": [
        "S.lower()\n",
        "S.split()[1]                    "
      ],
      "execution_count": null,
      "outputs": [
        {
          "output_type": "execute_result",
          "data": {
            "application/vnd.google.colaboratory.intrinsic": {
              "type": "string"
            },
            "text/plain": [
              "'my'"
            ]
          },
          "metadata": {
            "tags": []
          },
          "execution_count": 17
        }
      ]
    },
    {
      "cell_type": "code",
      "metadata": {
        "id": "OL0KLRHLMhV_",
        "colab_type": "code",
        "colab": {}
      },
      "source": [
        "d={'k1':1, 'k2':2}"
      ],
      "execution_count": null,
      "outputs": []
    },
    {
      "cell_type": "code",
      "metadata": {
        "id": "neGR2AhuNQVl",
        "colab_type": "code",
        "colab": {
          "base_uri": "https://localhost:8080/",
          "height": 68
        },
        "outputId": "10eac29d-119c-4065-b51d-77c1daef8658"
      },
      "source": [
        "print(d.keys())\n",
        "print(d.items())\n",
        "print(d.values())"
      ],
      "execution_count": null,
      "outputs": [
        {
          "output_type": "stream",
          "text": [
            "dict_keys(['k1', 'k2'])\n",
            "dict_items([('k1', 1), ('k2', 2)])\n",
            "dict_values([1, 2])\n"
          ],
          "name": "stdout"
        }
      ]
    },
    {
      "cell_type": "code",
      "metadata": {
        "id": "WNxc7dwNNWOl",
        "colab_type": "code",
        "colab": {
          "base_uri": "https://localhost:8080/",
          "height": 34
        },
        "outputId": "32a9d4c8-613d-4d12-841f-39dce96d1753"
      },
      "source": [
        "lst = [1,2,3]\n",
        "lst.pop()"
      ],
      "execution_count": null,
      "outputs": [
        {
          "output_type": "execute_result",
          "data": {
            "text/plain": [
              "3"
            ]
          },
          "metadata": {
            "tags": []
          },
          "execution_count": 26
        }
      ]
    },
    {
      "cell_type": "code",
      "metadata": {
        "id": "LRpdd8ZjNwwi",
        "colab_type": "code",
        "colab": {
          "base_uri": "https://localhost:8080/",
          "height": 34
        },
        "outputId": "352d829c-0d09-49ac-f803-41c69fde6f95"
      },
      "source": [
        "lst.pop(1)"
      ],
      "execution_count": null,
      "outputs": [
        {
          "output_type": "execute_result",
          "data": {
            "text/plain": [
              "2"
            ]
          },
          "metadata": {
            "tags": []
          },
          "execution_count": 27
        }
      ]
    },
    {
      "cell_type": "code",
      "metadata": {
        "id": "kFFnXqHqN42v",
        "colab_type": "code",
        "colab": {
          "base_uri": "https://localhost:8080/",
          "height": 34
        },
        "outputId": "823824a4-c80c-462c-92b8-7ffe1f83b4d7"
      },
      "source": [
        "lst"
      ],
      "execution_count": null,
      "outputs": [
        {
          "output_type": "execute_result",
          "data": {
            "text/plain": [
              "[1]"
            ]
          },
          "metadata": {
            "tags": []
          },
          "execution_count": 28
        }
      ]
    },
    {
      "cell_type": "code",
      "metadata": {
        "id": "oUV1MjNEN6tJ",
        "colab_type": "code",
        "colab": {}
      },
      "source": [
        "lst.append('new')"
      ],
      "execution_count": null,
      "outputs": []
    },
    {
      "cell_type": "code",
      "metadata": {
        "id": "cLjVRYR9N_m5",
        "colab_type": "code",
        "colab": {
          "base_uri": "https://localhost:8080/",
          "height": 34
        },
        "outputId": "5629c982-024f-4cd6-a348-8ca905cf8a3f"
      },
      "source": [
        "lst"
      ],
      "execution_count": null,
      "outputs": [
        {
          "output_type": "execute_result",
          "data": {
            "text/plain": [
              "[1, 'new']"
            ]
          },
          "metadata": {
            "tags": []
          },
          "execution_count": 30
        }
      ]
    },
    {
      "cell_type": "code",
      "metadata": {
        "id": "0RlIxdZUOAfS",
        "colab_type": "code",
        "colab": {
          "base_uri": "https://localhost:8080/",
          "height": 34
        },
        "outputId": "81707719-9985-41a1-9308-e88483c2e03f"
      },
      "source": [
        "1 in [1,2,3]"
      ],
      "execution_count": null,
      "outputs": [
        {
          "output_type": "execute_result",
          "data": {
            "text/plain": [
              "True"
            ]
          },
          "metadata": {
            "tags": []
          },
          "execution_count": 33
        }
      ]
    },
    {
      "cell_type": "code",
      "metadata": {
        "id": "-qtUunlnOEVe",
        "colab_type": "code",
        "colab": {}
      },
      "source": [
        "x = [(1,2),(2,3),(5,6)]"
      ],
      "execution_count": null,
      "outputs": []
    },
    {
      "cell_type": "code",
      "metadata": {
        "id": "bb59A0PsORzU",
        "colab_type": "code",
        "colab": {
          "base_uri": "https://localhost:8080/",
          "height": 68
        },
        "outputId": "103b97b9-7ce4-49a5-b915-05eec34efd6f"
      },
      "source": [
        "for var in x:\n",
        "  print(var)"
      ],
      "execution_count": null,
      "outputs": [
        {
          "output_type": "stream",
          "text": [
            "(1, 2)\n",
            "(2, 3)\n",
            "(5, 6)\n"
          ],
          "name": "stdout"
        }
      ]
    },
    {
      "cell_type": "code",
      "metadata": {
        "id": "hCX8fJ5MOWfw",
        "colab_type": "code",
        "colab": {
          "base_uri": "https://localhost:8080/",
          "height": 68
        },
        "outputId": "becb0380-65b4-4f7f-957c-39ac69a424e8"
      },
      "source": [
        "for a,b in x:\n",
        "  print(a)"
      ],
      "execution_count": null,
      "outputs": [
        {
          "output_type": "stream",
          "text": [
            "1\n",
            "2\n",
            "5\n"
          ],
          "name": "stdout"
        }
      ]
    },
    {
      "cell_type": "code",
      "metadata": {
        "id": "ethXR_a8OvmY",
        "colab_type": "code",
        "colab": {}
      },
      "source": [
        ""
      ],
      "execution_count": null,
      "outputs": []
    }
  ]
}